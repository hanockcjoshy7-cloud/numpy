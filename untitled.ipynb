{
  "cells": [
    {
      "cell_type": "markdown",
      "metadata": {
        "id": "view-in-github",
        "colab_type": "text"
      },
      "source": [
        "<a href=\"https://colab.research.google.com/github/hanockcjoshy7-cloud/numpy/blob/main/untitled.ipynb\" target=\"_parent\"><img src=\"https://colab.research.google.com/assets/colab-badge.svg\" alt=\"Open In Colab\"/></a>"
      ]
    },
    {
      "cell_type": "code",
      "execution_count": null,
      "metadata": {
        "id": "8XjgQPLbmK2p"
      },
      "outputs": [],
      "source": [
        "#print(\"hello world\")"
      ]
    },
    {
      "cell_type": "markdown",
      "metadata": {
        "id": "SJgAkztIqMlU"
      },
      "source": []
    },
    {
      "cell_type": "code",
      "execution_count": null,
      "metadata": {
        "id": "8a7JTceGqW-V"
      },
      "outputs": [],
      "source": [
        "print(\"Luminar\\n TVM\")"
      ]
    },
    {
      "cell_type": "code",
      "execution_count": null,
      "metadata": {
        "id": "ETe2nUL9sqe5"
      },
      "outputs": [],
      "source": [
        "print(\"Lumina\\tTVM\")"
      ]
    },
    {
      "cell_type": "code",
      "execution_count": null,
      "metadata": {
        "id": "YG1ln9GHudT0"
      },
      "outputs": [],
      "source": [
        "a=5\n",
        "b=\"apple\"\n",
        "\n",
        "print(a)\n",
        "print(b)\n"
      ]
    },
    {
      "cell_type": "code",
      "execution_count": null,
      "metadata": {
        "id": "q7bEhtQRu709"
      },
      "outputs": [],
      "source": [
        "#ord\n",
        "print(ord(\"a\"))\n",
        "#chr\n",
        "print(chr(97))"
      ]
    },
    {
      "cell_type": "code",
      "execution_count": null,
      "metadata": {
        "id": "DtkzPdhlve5f"
      },
      "outputs": [],
      "source": [
        "#encode and decode\n",
        "text=\"apple❤️À \"\n",
        "en=text.encode()\n",
        "de=en.decode()\n",
        "print(en)\n",
        "print(de)"
      ]
    },
    {
      "cell_type": "code",
      "execution_count": null,
      "metadata": {
        "id": "WzPSkBcLx8Qw"
      },
      "outputs": [],
      "source": [
        "#unicode\n",
        "print(\"\\u16543\")\n"
      ]
    },
    {
      "cell_type": "code",
      "execution_count": null,
      "metadata": {
        "id": "XjgWaEyYzE6I"
      },
      "outputs": [],
      "source": [
        "name=\"Hanock C Joshy\"\n",
        "print(name)\n",
        "age=21\n",
        "print(age)\n",
        "pi=3.5\n",
        "print(pi)"
      ]
    },
    {
      "cell_type": "code",
      "execution_count": null,
      "metadata": {
        "id": "wOcNhAGGzict"
      },
      "outputs": [],
      "source": [
        "#multiple variable assigment\n",
        "a,b=12,34"
      ]
    },
    {
      "cell_type": "code",
      "execution_count": null,
      "metadata": {
        "id": "DXuJII-20Cnf"
      },
      "outputs": [],
      "source": [
        "#wap to swap two number\n",
        "a=12\n",
        "b=34\n",
        "a,b=b,a\n",
        "print(a)\n",
        "print(b)"
      ]
    },
    {
      "cell_type": "code",
      "execution_count": null,
      "metadata": {
        "id": "n5MoyoUta_nq"
      },
      "outputs": [],
      "source": [
        "#assign 7 to x and 3 to y then compute x+y*2\n",
        "#swap a=100 and b=200\n",
        "#check if width=10 and height=20\n",
        "#extract world from hello world\n",
        "#count how many l in hello\n",
        "#check if text=\"python\"start with py\n",
        "#check if \"123\" is numeric\n",
        "#check 5 exists in [1,2,3,4,]\n",
        "#convert\"3.14\" to float\n",
        "#change 100 to a string\n",
        "#transform \"hello\" into a string\n",
        "#tranform \"hello\" into list of charecters\n",
        "#claculate 15% tip on bill=50\n",
        "#what is 3*\"A\"+2\"B\"\n",
        "#elavate [1,2,3][1:]"
      ]
    },
    {
      "cell_type": "code",
      "execution_count": null,
      "metadata": {
        "id": "rMWXUN-vkzPV"
      },
      "outputs": [],
      "source": []
    },
    {
      "cell_type": "code",
      "execution_count": null,
      "metadata": {
        "id": "amqawGf7h5ur"
      },
      "outputs": [],
      "source": [
        "x = 7\n",
        "y = 3\n",
        "\n",
        "print(x + y * 2)"
      ]
    },
    {
      "cell_type": "code",
      "execution_count": null,
      "metadata": {
        "id": "tAyxjkYJieAV"
      },
      "outputs": [],
      "source": [
        "a=100\n",
        "b=200\n",
        "a,b=b,a\n",
        "print(a)\n",
        "print(b)"
      ]
    },
    {
      "cell_type": "code",
      "execution_count": null,
      "metadata": {
        "id": "fUYJ3tmQi2WQ"
      },
      "outputs": [],
      "source": [
        "width = 10\n",
        "height = 20\n",
        "\n",
        "if width == 10 and height == 20:\n",
        "    print(\"Width is 10 and Height is 20\")\n",
        "else:\n",
        "    print(\"not found\")"
      ]
    },
    {
      "cell_type": "code",
      "execution_count": null,
      "metadata": {
        "id": "gLOgei_4jpUV"
      },
      "outputs": [],
      "source": [
        "a=\"hello world\"\n",
        "print(a[6:11])"
      ]
    },
    {
      "cell_type": "code",
      "execution_count": null,
      "metadata": {
        "id": "YYbmMEC_lHuo"
      },
      "outputs": [],
      "source": [
        "a=\"hello\"\n",
        "print(a.count(\"l\"))"
      ]
    },
    {
      "cell_type": "code",
      "execution_count": null,
      "metadata": {
        "id": "d3NwNoChl00M"
      },
      "outputs": [],
      "source": [
        "a=\"python\"\n",
        "print(a.startswith(\"py\"))"
      ]
    },
    {
      "cell_type": "code",
      "execution_count": null,
      "metadata": {
        "id": "JnWKtvnFmkRQ"
      },
      "outputs": [],
      "source": [
        "a=\"123\"\n",
        "print(a.isnumeric())"
      ]
    },
    {
      "cell_type": "code",
      "execution_count": null,
      "metadata": {
        "id": "b3yCpk3kmrgW"
      },
      "outputs": [],
      "source": [
        "a=[1,2,3,4]\n",
        "print(5 in a)"
      ]
    },
    {
      "cell_type": "code",
      "execution_count": null,
      "metadata": {
        "id": "nk-rLE6LnOZt"
      },
      "outputs": [],
      "source": [
        "a=\"3.14\"\n",
        "float(a)"
      ]
    },
    {
      "cell_type": "code",
      "execution_count": null,
      "metadata": {
        "id": "oleRw2n5nlGh"
      },
      "outputs": [],
      "source": [
        "a=100\n",
        "str(a)"
      ]
    },
    {
      "cell_type": "code",
      "execution_count": null,
      "metadata": {
        "id": "72FumlcPn2Q4"
      },
      "outputs": [],
      "source": [
        "a=\"hello\"\n",
        "str(a)"
      ]
    },
    {
      "cell_type": "code",
      "execution_count": null,
      "metadata": {
        "id": "oO66whQgn7rB"
      },
      "outputs": [],
      "source": [
        "a=\"hello\"\n",
        "list(a)"
      ]
    },
    {
      "cell_type": "code",
      "execution_count": null,
      "metadata": {
        "id": "kPtlsDb6oSVp"
      },
      "outputs": [],
      "source": [
        "a=50\n",
        "b=.15*a\n",
        "print(b)"
      ]
    },
    {
      "cell_type": "code",
      "execution_count": null,
      "metadata": {
        "id": "3NvInh_8ogER"
      },
      "outputs": [],
      "source": [
        "a=\"A\"*3+\"B\"*2\n",
        "print(a)"
      ]
    },
    {
      "cell_type": "code",
      "execution_count": null,
      "metadata": {
        "id": "cagWikg-qB5L"
      },
      "outputs": [],
      "source": [
        "a=[1,2,3]\n",
        "print(a[1:])"
      ]
    },
    {
      "cell_type": "code",
      "execution_count": null,
      "metadata": {
        "id": "kFG7qNYBrEck"
      },
      "outputs": [],
      "source": [
        "#increment x=7 by 3 without using + operator\n",
        "#convert miles=5 to kilometers (1mile=1.60934) use walrus operator\n",
        "#print swap case of s=\"PyThon\"\n",
        "#check if s=\"hello\" is all lowercase\n",
        "#check if word=\"Python\" end with \"on\"\n",
        "#remove whitespaces from \"hello\"\n",
        "#split \"apple, banana, cherry\" at commas\n",
        "#check if \"123abc\" is alpha numeric\n",
        "#change the second element of l=[1,2,3] to 5\n",
        "#get index of \"b\" in [\"a\", \"b\",\"c\"]\n",
        "#calculate hypotenuse of a right triangle with sides 3 and 4\n",
        "#find smallest of two numbers"
      ]
    },
    {
      "cell_type": "code",
      "execution_count": null,
      "metadata": {
        "id": "UzG2etNivGg9"
      },
      "outputs": [],
      "source": [
        "x = 7\n",
        "x+=3\n",
        "print(x)"
      ]
    },
    {
      "cell_type": "code",
      "execution_count": null,
      "metadata": {
        "id": "h7EEX8voojAI"
      },
      "outputs": [],
      "source": [
        "#wap to print 10 hai vertically\n",
        "for i in range(10):\n",
        "    print(\"hai\")"
      ]
    },
    {
      "cell_type": "code",
      "execution_count": null,
      "metadata": {
        "id": "H1IENUwQo_lJ"
      },
      "outputs": [],
      "source": [
        "for i in range(10):\n",
        "    print(\"hai\",end=\" \")"
      ]
    },
    {
      "cell_type": "code",
      "execution_count": null,
      "metadata": {
        "id": "Kq3EOsGhpdZ6"
      },
      "outputs": [],
      "source": [
        "#wap to find sum of even numbers within 1-100\n",
        "s=0\n",
        "for i in range(2, 101, 2):\n",
        "  s+=i\n",
        "s"
      ]
    },
    {
      "cell_type": "code",
      "execution_count": null,
      "metadata": {
        "id": "HeZLEflNqscA"
      },
      "outputs": [],
      "source": [
        "#wap to find sum of odd numbers with in 1-20 both inclusive\n",
        "s=0\n",
        "for i in range(1,21):\n",
        "  if i%2!=0:\n",
        "    s=s+i\n",
        "s"
      ]
    },
    {
      "cell_type": "code",
      "execution_count": null,
      "metadata": {
        "id": "DfXXl6Atrd48"
      },
      "outputs": [],
      "source": [
        "#wap to print factorial of number\n",
        "n= int(input(\"Enter a number: \"))\n",
        "f=1\n",
        "for i in range(1,n+1):\n",
        "        f=f*i\n",
        "f"
      ]
    },
    {
      "cell_type": "code",
      "execution_count": null,
      "metadata": {
        "id": "G08evEZatFXe"
      },
      "outputs": [],
      "source": [
        "#wap to print multiplication table of 5 upto 15 rows\n",
        "for i in range(1, 16):\n",
        "\n",
        "    print(f\"{i} x 5 = {5 * i}\")"
      ]
    },
    {
      "cell_type": "code",
      "execution_count": null,
      "metadata": {
        "id": "DKB7sR_Kuyr2"
      },
      "outputs": [],
      "source": [
        "#wap to print factors of a given number\n",
        "n= int(input(\"Enter a number: \"))\n",
        "for i in range(1, n + 1):\n",
        "    if n % i == 0:\n",
        "        print(i)"
      ]
    },
    {
      "cell_type": "code",
      "execution_count": null,
      "metadata": {
        "id": "vsDSsjoHvqux"
      },
      "outputs": [],
      "source": [
        "#wap to count number of factors of a given number\n",
        "n=8\n",
        "c=0\n",
        "for i in range(1,n+1):\n",
        "  if n%i==0:\n",
        "    c+=1\n",
        "c\n"
      ]
    },
    {
      "cell_type": "code",
      "execution_count": null,
      "metadata": {
        "id": "96TPSDgyxB0t"
      },
      "outputs": [],
      "source": [
        "l=[]\n",
        "n=8\n",
        "for i in range(1,n+1):\n",
        "  if n%i==0:\n",
        "    l.append(i)\n",
        "print(len(l))"
      ]
    },
    {
      "cell_type": "code",
      "execution_count": null,
      "metadata": {
        "id": "_FGG0GKtyePX"
      },
      "outputs": [],
      "source": [
        "n= int(input(\"Enter a number: \"))\n",
        "c=0\n",
        "for i in range(1,n+1):\n",
        "  if n%i==0:\n",
        "    c+=1\n",
        "if c==2:\n",
        "  print(\"prime\")\n",
        "else:\n",
        "  print(\"not prime\")"
      ]
    },
    {
      "cell_type": "code",
      "execution_count": null,
      "metadata": {
        "id": "KoNKMykPzyo-"
      },
      "outputs": [],
      "source": [
        "#fibanocci series\n",
        "l=[0,1]\n",
        "n=6\n",
        "for i in range(2,n+1):\n",
        "  t=l[-1]+l[-2]\n",
        "  l.append(t)\n",
        "l\n"
      ]
    },
    {
      "cell_type": "code",
      "execution_count": null,
      "metadata": {
        "id": "xHkaY9ig24Ow"
      },
      "outputs": [],
      "source": [
        "l=[0,1]\n",
        "n=6\n",
        "for i in range(2,n):\n",
        "  t=l[-1]+l[-2]\n",
        "  l.append(t)\n",
        "l\n"
      ]
    },
    {
      "cell_type": "code",
      "execution_count": null,
      "metadata": {
        "id": "ZzNruCCP3MTN"
      },
      "outputs": [],
      "source": [
        "f=0\n",
        "s=1\n",
        "for i in range(5):\n",
        "  print(f)\n",
        "  t=f+s\n",
        "  f=s\n",
        "  s=t"
      ]
    },
    {
      "cell_type": "code",
      "execution_count": null,
      "metadata": {
        "id": "RZmjWLTU5Hk7"
      },
      "outputs": [],
      "source": [
        "#wap to find number in a string\n",
        "#wap to find number of words in a string"
      ]
    },
    {
      "cell_type": "code",
      "execution_count": null,
      "metadata": {
        "id": "PQezEwlZ5fgG"
      },
      "outputs": [],
      "source": [
        "s=input(\"enter the string\")\n",
        "print(len(s))\n",
        "s=input(\"enter the sting\")\n",
        "print(s.count)"
      ]
    },
    {
      "cell_type": "code",
      "execution_count": null,
      "metadata": {
        "id": "smIeQsfcw4wg"
      },
      "outputs": [],
      "source": [
        "while True:\n",
        "  print(\"hi\")\n",
        "  i+1\n"
      ]
    },
    {
      "cell_type": "code",
      "source": [
        "#nested loop\n",
        "for i in range(2):\n",
        "  for j in range(4):\n",
        "    print(\"*\",end=\" \")\n",
        "  print()"
      ],
      "metadata": {
        "id": "vq3YraAPPote"
      },
      "execution_count": null,
      "outputs": []
    },
    {
      "cell_type": "code",
      "source": [
        "for i in range(4):\n",
        "  for j in range(4):\n",
        "    print(\"#\",end=\" \")\n",
        "  print()"
      ],
      "metadata": {
        "id": "skZU94KWQ60a",
        "colab": {
          "base_uri": "https://localhost:8080/"
        },
        "outputId": "b2cf1b8b-8495-4ed4-e20e-40620c60fbe5"
      },
      "execution_count": null,
      "outputs": [
        {
          "output_type": "stream",
          "name": "stdout",
          "text": [
            "# # # # \n",
            "# # # # \n",
            "# # # # \n",
            "# # # # \n"
          ]
        }
      ]
    },
    {
      "cell_type": "code",
      "source": [
        "for i in range(4):\n",
        "  for j in range(4):\n",
        "    print(j+1,end=\" \")\n",
        "  print()"
      ],
      "metadata": {
        "id": "1k7kH84tSPze",
        "colab": {
          "base_uri": "https://localhost:8080/"
        },
        "outputId": "175fcf50-c21e-44d0-e1da-4de5d5cca461"
      },
      "execution_count": null,
      "outputs": [
        {
          "output_type": "stream",
          "name": "stdout",
          "text": [
            "1 2 3 4 \n",
            "1 2 3 4 \n",
            "1 2 3 4 \n",
            "1 2 3 4 \n"
          ]
        }
      ]
    },
    {
      "cell_type": "code",
      "source": [
        "for i in range(4):\n",
        "  for j in range(4):\n",
        "    print(i+1,end=\" \")\n",
        "  print()"
      ],
      "metadata": {
        "id": "LK3UvygISuwJ",
        "colab": {
          "base_uri": "https://localhost:8080/"
        },
        "outputId": "91ba8629-0189-49a3-d2f3-b7e9c4d64b84"
      },
      "execution_count": null,
      "outputs": [
        {
          "output_type": "stream",
          "name": "stdout",
          "text": [
            "1 1 1 1 \n",
            "2 2 2 2 \n",
            "3 3 3 3 \n",
            "4 4 4 4 \n"
          ]
        }
      ]
    },
    {
      "cell_type": "code",
      "source": [
        "for i in range(4):\n",
        "  for j in range(1,5):\n",
        "    print(j*2,end=\" \")\n",
        "  print()"
      ],
      "metadata": {
        "id": "tZj3JrKvS-6v",
        "colab": {
          "base_uri": "https://localhost:8080/"
        },
        "outputId": "0ba7525b-cf93-47cf-dcce-7be694c49293"
      },
      "execution_count": null,
      "outputs": [
        {
          "output_type": "stream",
          "name": "stdout",
          "text": [
            "2 4 6 8 \n",
            "2 4 6 8 \n",
            "2 4 6 8 \n",
            "2 4 6 8 \n"
          ]
        }
      ]
    },
    {
      "cell_type": "code",
      "source": [
        "for i in range(3,6):\n",
        "  for j in range(1,5):\n",
        "    print(i*i,end=\" \")\n",
        "  print()"
      ],
      "metadata": {
        "id": "9lJ_VNsjT4jJ"
      },
      "execution_count": null,
      "outputs": []
    },
    {
      "cell_type": "code",
      "source": [
        "for i in range(4):\n",
        "  for j in range(i+1):\n",
        "    print(\"*\",end=\" \")\n",
        "  print()"
      ],
      "metadata": {
        "id": "Lxmavk0pV4IF",
        "colab": {
          "base_uri": "https://localhost:8080/"
        },
        "outputId": "63104bf8-a49f-4610-da6f-40fe081ad59e"
      },
      "execution_count": null,
      "outputs": [
        {
          "output_type": "stream",
          "name": "stdout",
          "text": [
            "* \n",
            "* * \n",
            "* * * \n",
            "* * * * \n"
          ]
        }
      ]
    },
    {
      "cell_type": "code",
      "source": [
        "for i in range(4):\n",
        "  for j in range(4-i):\n",
        "    print(\"*\",end=\" \")\n",
        "  print()"
      ],
      "metadata": {
        "id": "j5zNNmeoWbPe",
        "colab": {
          "base_uri": "https://localhost:8080/"
        },
        "outputId": "b83f2983-7f4c-4370-d7f0-6a7c6d7026c1"
      },
      "execution_count": null,
      "outputs": [
        {
          "output_type": "stream",
          "name": "stdout",
          "text": [
            "* * * * \n",
            "* * * \n",
            "* * \n",
            "* \n"
          ]
        }
      ]
    },
    {
      "cell_type": "code",
      "source": [
        "for i in range(4):\n",
        "  for j in range(4-i):\n",
        "    print(i+1,end=\" \")\n",
        "  print()"
      ],
      "metadata": {
        "id": "OygMt3EYW105"
      },
      "execution_count": null,
      "outputs": []
    },
    {
      "cell_type": "code",
      "source": [
        "for i in range(4):\n",
        "  for j in range(4-i):\n",
        "    print(j,end=\" \")\n",
        "  print()"
      ],
      "metadata": {
        "id": "r_kEZl90XTeq",
        "colab": {
          "base_uri": "https://localhost:8080/"
        },
        "outputId": "d1b98896-414d-4cdd-a1a6-095f98454e33"
      },
      "execution_count": null,
      "outputs": [
        {
          "output_type": "stream",
          "name": "stdout",
          "text": [
            "0 1 2 3 \n",
            "0 1 2 \n",
            "0 1 \n",
            "0 \n"
          ]
        }
      ]
    },
    {
      "cell_type": "code",
      "source": [
        "for i in range(4):\n",
        "  for j in range(4-i):\n",
        "    print(\" \",end=\" \")\n",
        "  for k in range(i+1):\n",
        "    print(\"*\",end=\" \")\n",
        "\n",
        "  print()"
      ],
      "metadata": {
        "id": "8M8nEQRjYjQ6"
      },
      "execution_count": null,
      "outputs": []
    },
    {
      "cell_type": "code",
      "source": [
        "for i in range(3):\n",
        "  for j in range(4-i):\n",
        "    print(\" \",end=\" \")\n",
        "  for k in range(i+1):\n",
        "    print(\"*\",end=\" \")\n",
        "  for l in range(i):\n",
        "    print(\"*\",end=\" \")\n",
        "  print()\n",
        "for i in range(4):\n",
        "  for j in range(i+1):\n",
        "    print(\" \",end=\" \")\n",
        "  for k in range(4-i):\n",
        "    print(\"*\",end=\" \")\n",
        "  for l in range(3-i):\n",
        "    print(\"*\",end=\" \")\n",
        "\n",
        "  print()"
      ],
      "metadata": {
        "id": "n--fibfuZ7f8"
      },
      "execution_count": null,
      "outputs": []
    },
    {
      "cell_type": "code",
      "source": [
        "for i in range(1,5):\n",
        "  for j in range(i):\n",
        "    print(i-j,end=\" \")\n",
        "  print()"
      ],
      "metadata": {
        "id": "6FI5vI82bfX2",
        "colab": {
          "base_uri": "https://localhost:8080/"
        },
        "outputId": "de733eb4-3cc6-40c7-d963-feba213b5f89"
      },
      "execution_count": null,
      "outputs": [
        {
          "output_type": "stream",
          "name": "stdout",
          "text": [
            "1 \n",
            "2 1 \n",
            "3 2 1 \n",
            "4 3 2 1 \n"
          ]
        }
      ]
    },
    {
      "cell_type": "code",
      "source": [
        "for i in range(1,5):\n",
        "  for j in range(i):\n",
        "    print(j+1,end=\" \")\n",
        "  print()"
      ],
      "metadata": {
        "id": "lKZPzU2QYpLl"
      },
      "execution_count": null,
      "outputs": []
    },
    {
      "cell_type": "code",
      "source": [
        "l=[\"a\",\"b\",\"c\",\"d\"]"
      ],
      "metadata": {
        "id": "dSKhZcUgZ_K7"
      },
      "execution_count": null,
      "outputs": []
    },
    {
      "cell_type": "code",
      "source": [
        "#jumbing statements\n",
        "#pass\n",
        "for i in range(1,10):\n",
        "  if i%2==0:\n",
        "    pass\n",
        "  else:\n",
        "    print(i)\n",
        "#break\n",
        "#continue"
      ],
      "metadata": {
        "id": "3WSGQqsmaf8I"
      },
      "execution_count": null,
      "outputs": []
    },
    {
      "cell_type": "code",
      "source": [
        "for i in range(1,10):\n",
        "  if i==5:\n",
        "    break\n",
        "  print(i)\n"
      ],
      "metadata": {
        "id": "VnXyhkfDbAvi"
      },
      "execution_count": null,
      "outputs": []
    },
    {
      "cell_type": "code",
      "source": [
        "for i in range(1,10):\n",
        "  if i==5:\n",
        "    continue\n",
        "  print(i)"
      ],
      "metadata": {
        "id": "dWWX7MYAbp0F"
      },
      "execution_count": null,
      "outputs": []
    },
    {
      "cell_type": "code",
      "source": [
        "#wap to print prime numbers in a given range\n",
        "for n in range(a, s+1):\n",
        "    if n > 1:\n",
        "        for i in range(2, n):\n",
        "            if n % i == 0:\n",
        "                break\n",
        "        else:\n",
        "            print(n)"
      ],
      "metadata": {
        "id": "ebL8o3Rpb7OK"
      },
      "execution_count": null,
      "outputs": []
    },
    {
      "cell_type": "code",
      "source": [
        "#function in python\n",
        "#build in function print(),max(),len(),count()........\n",
        "#function imported from modules\n"
      ],
      "metadata": {
        "id": "ScnnBQVggLOk"
      },
      "execution_count": null,
      "outputs": []
    },
    {
      "cell_type": "code",
      "source": [
        "def add(a,b):\n",
        "  return a+b,a-b\n",
        "t,s=add(1,2)\n",
        "print(t)\n",
        "print(s)\n"
      ],
      "metadata": {
        "id": "LeY3EQSIi4x7"
      },
      "execution_count": null,
      "outputs": []
    },
    {
      "cell_type": "code",
      "source": [
        "#write a program to create a function to print factorial of a number\n",
        "def fact(n):\n",
        "    f = 1\n",
        "    for i in range(1, n+1):\n",
        "        f=f * i\n",
        "    return f\n",
        "fact(5)"
      ],
      "metadata": {
        "id": "Zvu6sIZglJb6"
      },
      "execution_count": null,
      "outputs": []
    },
    {
      "cell_type": "code",
      "source": [
        "#create a simple calculate using function\n",
        "a=int(input(\"enter number\"))\n",
        "b=int(input(\"enter number\"))\n",
        "def num(a,b):\n",
        "  return a+b,a-b,a*b,a/b\n",
        "c,d,e,f=num(a,b)\n",
        "print(\"sum of two numbers:\",c)\n",
        "print(\"minus of two numbers:\",d)\n",
        "print(\"multiple of two numbers\",e)\n",
        "print(\"division of two numbers:,f\")"
      ],
      "metadata": {
        "id": "ZWbQWE-inKbh"
      },
      "execution_count": null,
      "outputs": []
    },
    {
      "cell_type": "code",
      "source": [
        "if number % 2 == 0:\n",
        "    return \"Even\"\n",
        "else:\n",
        "    return \"Odd\""
      ],
      "metadata": {
        "id": "puVb9hoKrM4b"
      },
      "execution_count": null,
      "outputs": []
    },
    {
      "cell_type": "code",
      "source": [
        "def check_odd_even(num):\n",
        "    if num % 2 == 0:\n",
        "        print(num, \"is Even\")\n",
        "    else:\n",
        "        print(num, \"is Odd\")\n",
        "\n",
        "n = int(input(\"Enter a number: \"))\n",
        "check_odd_even(n)\n"
      ],
      "metadata": {
        "id": "okC9iuUatfdX"
      },
      "execution_count": null,
      "outputs": []
    },
    {
      "cell_type": "code",
      "source": [
        "def stud (rollno=13,name=\"abu\"):\n",
        "  print(\"name is:\",name)\n",
        "  print(\"rollno is:\",rollno)\n",
        "stud(12)"
      ],
      "metadata": {
        "id": "Y2kHJxAFhBqq"
      },
      "execution_count": null,
      "outputs": []
    },
    {
      "cell_type": "code",
      "source": [
        "def stud (name,rollno=13):\n",
        "  print(\"name is:\",name)\n",
        "  print(\"rollno is:\",rollno)\n",
        "stud(rollno=12,name=\"apple\")"
      ],
      "metadata": {
        "id": "mIubjseGjAIz"
      },
      "execution_count": null,
      "outputs": []
    },
    {
      "cell_type": "code",
      "source": [
        "#create a function to print area of a circle using default and keyword argument\n",
        "def area(r,pi=3.14):\n",
        "  print(\"area is:\",pi*(r**2))\n",
        "area(r=9,pi=6.1)"
      ],
      "metadata": {
        "id": "D0cXpjZYje13"
      },
      "execution_count": null,
      "outputs": []
    },
    {
      "cell_type": "code",
      "source": [
        "#create a function to find maximum of three number\n",
        "def maxi(a, b, c):\n",
        "    return max(a,b,c)\n",
        "maxi(1,2,3)"
      ],
      "metadata": {
        "colab": {
          "base_uri": "https://localhost:8080/"
        },
        "id": "t9oqE5GalHi2",
        "outputId": "ac157be8-5e7b-466a-ffe8-cc5f31ed6545"
      },
      "execution_count": null,
      "outputs": [
        {
          "output_type": "execute_result",
          "data": {
            "text/plain": [
              "3"
            ]
          },
          "metadata": {},
          "execution_count": 1
        }
      ]
    },
    {
      "cell_type": "code",
      "source": [
        "#create a function to reverse a string\n",
        "def rev(s):\n",
        "  return s[-1::-1]\n",
        "rev(\"Malayalam\")"
      ],
      "metadata": {
        "colab": {
          "base_uri": "https://localhost:8080/",
          "height": 36
        },
        "id": "UHlMmykrmX8U",
        "outputId": "f988da10-ec7c-4a4a-bdf3-866fed36bfb0"
      },
      "execution_count": null,
      "outputs": [
        {
          "output_type": "execute_result",
          "data": {
            "text/plain": [
              "'malayalaM'"
            ],
            "application/vnd.google.colaboratory.intrinsic+json": {
              "type": "string"
            }
          },
          "metadata": {},
          "execution_count": 3
        }
      ]
    },
    {
      "cell_type": "code",
      "source": [
        "#create a function to check a string is palindrome or note\n",
        "def str(s):\n",
        "    d=s[-1::-1]\n",
        "    if d==s:\n",
        "        print(\"palindrome\")\n",
        "    else:\n",
        "        print(\"not palindrome\")\n",
        "str(\"malayalam\")\n"
      ],
      "metadata": {
        "colab": {
          "base_uri": "https://localhost:8080/"
        },
        "id": "6sr6aPtwmwnF",
        "outputId": "4d68bb28-0c36-4eec-e04b-45e617691c44"
      },
      "execution_count": null,
      "outputs": [
        {
          "output_type": "stream",
          "name": "stdout",
          "text": [
            "palindrome\n"
          ]
        }
      ]
    },
    {
      "cell_type": "code",
      "source": [
        "#*arg,**kwargs\n",
        "def ore(*args):\n",
        "  print(type(args))\n",
        "  for i in args:\n",
        "    print(i)\n",
        "ore(1,2,3,4,5,\"apple\")"
      ],
      "metadata": {
        "colab": {
          "base_uri": "https://localhost:8080/"
        },
        "id": "LQjNhvtIoYvW",
        "outputId": "3b5b681b-7348-48a1-c2cf-7004c3bf5c81"
      },
      "execution_count": null,
      "outputs": [
        {
          "output_type": "stream",
          "name": "stdout",
          "text": [
            "<class 'tuple'>\n",
            "1\n",
            "2\n",
            "3\n",
            "4\n",
            "5\n",
            "apple\n"
          ]
        }
      ]
    },
    {
      "cell_type": "code",
      "source": [
        "def are(**kwargs):\n",
        "  print(type(kwargs))\n",
        "  for i,j in kwargs.items():\n",
        "    print(i,j)\n",
        "are(a=1,b=2,c=3,d=4)"
      ],
      "metadata": {
        "colab": {
          "base_uri": "https://localhost:8080/"
        },
        "id": "qMxB0DTiptGs",
        "outputId": "f9b02d57-2dfb-4615-aa15-2362a6d9e651"
      },
      "execution_count": null,
      "outputs": [
        {
          "output_type": "stream",
          "name": "stdout",
          "text": [
            "<class 'dict'>\n",
            "a 1\n",
            "b 2\n",
            "c 3\n",
            "d 4\n"
          ]
        }
      ]
    },
    {
      "cell_type": "code",
      "source": [
        "def are(**kwargs):\n",
        "  print(type(kwargs))\n",
        "  for i,j in kwargs.items():\n",
        "    print(i,j)\n",
        "  print(args)\n",
        "are(3,4,5,a=1,b=2)"
      ],
      "metadata": {
        "colab": {
          "base_uri": "https://localhost:8080/",
          "height": 176
        },
        "id": "FKqJdWbUqoDe",
        "outputId": "d3158b20-19dd-4351-b6cf-43c717ebe620"
      },
      "execution_count": null,
      "outputs": [
        {
          "output_type": "error",
          "ename": "TypeError",
          "evalue": "are() takes 0 positional arguments but 3 were given",
          "traceback": [
            "\u001b[0;31m---------------------------------------------------------------------------\u001b[0m",
            "\u001b[0;31mTypeError\u001b[0m                                 Traceback (most recent call last)",
            "\u001b[0;32m/tmp/ipython-input-419034883.py\u001b[0m in \u001b[0;36m<cell line: 0>\u001b[0;34m()\u001b[0m\n\u001b[1;32m      4\u001b[0m     \u001b[0mprint\u001b[0m\u001b[0;34m(\u001b[0m\u001b[0mi\u001b[0m\u001b[0;34m,\u001b[0m\u001b[0mj\u001b[0m\u001b[0;34m)\u001b[0m\u001b[0;34m\u001b[0m\u001b[0;34m\u001b[0m\u001b[0m\n\u001b[1;32m      5\u001b[0m   \u001b[0mprint\u001b[0m\u001b[0;34m(\u001b[0m\u001b[0margs\u001b[0m\u001b[0;34m)\u001b[0m\u001b[0;34m\u001b[0m\u001b[0;34m\u001b[0m\u001b[0m\n\u001b[0;32m----> 6\u001b[0;31m \u001b[0mare\u001b[0m\u001b[0;34m(\u001b[0m\u001b[0;36m3\u001b[0m\u001b[0;34m,\u001b[0m\u001b[0;36m4\u001b[0m\u001b[0;34m,\u001b[0m\u001b[0;36m5\u001b[0m\u001b[0;34m,\u001b[0m\u001b[0ma\u001b[0m\u001b[0;34m=\u001b[0m\u001b[0;36m1\u001b[0m\u001b[0;34m,\u001b[0m\u001b[0mb\u001b[0m\u001b[0;34m=\u001b[0m\u001b[0;36m2\u001b[0m\u001b[0;34m)\u001b[0m\u001b[0;34m\u001b[0m\u001b[0;34m\u001b[0m\u001b[0m\n\u001b[0m",
            "\u001b[0;31mTypeError\u001b[0m: are() takes 0 positional arguments but 3 were given"
          ]
        }
      ]
    },
    {
      "cell_type": "code",
      "source": [
        "#seraching\n",
        "#linear searching\n",
        "#binary searching\n",
        "l=[4,5,6,1,2]\n",
        "key=10\n",
        "for i in l:\n",
        "  if i==key:\n",
        "    print(\"item found\")\n",
        "    break\n",
        "else:\n",
        "  print(\"item not found\")"
      ],
      "metadata": {
        "colab": {
          "base_uri": "https://localhost:8080/"
        },
        "id": "X2-VkuWzrsDp",
        "outputId": "dd45c87c-ce05-40bd-95f4-e15cd970876e"
      },
      "execution_count": null,
      "outputs": [
        {
          "output_type": "stream",
          "name": "stdout",
          "text": [
            "item not found\n"
          ]
        }
      ]
    },
    {
      "cell_type": "code",
      "source": [
        "#binary searching\n",
        "l=[5,7,9,13,32,33,42,54,56,88]\n",
        "l.sort()\n",
        "key=33\n",
        "u=len(l)-1\n",
        "lo=0\n",
        "while(lo<=u):\n",
        "  mid=(lo+u)//2\n",
        "  if l[mid]==key:\n",
        "    print(\"item found\")\n",
        "    break\n",
        "  elif l[mid]<key:\n",
        "    lo=mid+1\n",
        "  else:\n",
        "    u=mid-1\n",
        "else:\n",
        "  print(\"item not found\")\n"
      ],
      "metadata": {
        "id": "XQNiT-GWs9jn",
        "colab": {
          "base_uri": "https://localhost:8080/"
        },
        "outputId": "1c58a9b9-0dc7-4810-8145-7d4ff4d210dd"
      },
      "execution_count": null,
      "outputs": [
        {
          "output_type": "stream",
          "name": "stdout",
          "text": [
            "item found\n"
          ]
        }
      ]
    },
    {
      "cell_type": "code",
      "source": [
        "def fact1():\n",
        "    n = int(input(\"Enter a number: \"))\n",
        "    l = [i for i in range(1, n+1)]\n",
        "    f = 1\n",
        "    for i in l:\n",
        "        f *= i\n",
        "    print(\"Factorial:\", f)\n",
        "print(\"Case 1:\")\n",
        "fact1()\n",
        "\n",
        "def fact2(n):\n",
        "    l = [i for i in range(1, n+1)]\n",
        "    f = 1\n",
        "    for i in l:\n",
        "        f *= i\n",
        "    print(\"Factorial:\", f)\n",
        "print(\"\\nCase 2:\")\n",
        "fact2(5)\n",
        "\n",
        "def fact3():\n",
        "    n = int(input(\"Enter a number: \"))\n",
        "    l = [i for i in range(1, n+1)]\n",
        "    f = 1\n",
        "    for i in l:\n",
        "        f *= i\n",
        "    return f\n",
        "print(\"\\nCase 3:\")\n",
        "print(\"Factorial:\", fact3())\n",
        "\n",
        "\n",
        "def fact4(n):\n",
        "    l = [i for i in range(1, n+1)]\n",
        "    f = 1\n",
        "    for i in l:\n",
        "        f *= i\n",
        "    return f\n",
        "\n",
        "\n",
        "print(\"\\nCase 4:\")\n",
        "print(\"Factorial:\", fact4(6))"
      ],
      "metadata": {
        "colab": {
          "base_uri": "https://localhost:8080/",
          "height": 373
        },
        "id": "s8mtBNEXM_s6",
        "outputId": "a33ea727-275b-4cc1-9fcf-00ef1467c003"
      },
      "execution_count": null,
      "outputs": [
        {
          "output_type": "stream",
          "name": "stdout",
          "text": [
            "Case 1:\n"
          ]
        },
        {
          "output_type": "error",
          "ename": "KeyboardInterrupt",
          "evalue": "Interrupted by user",
          "traceback": [
            "\u001b[0;31m---------------------------------------------------------------------------\u001b[0m",
            "\u001b[0;31mKeyboardInterrupt\u001b[0m                         Traceback (most recent call last)",
            "\u001b[0;32m/tmp/ipython-input-1031418866.py\u001b[0m in \u001b[0;36m<cell line: 0>\u001b[0;34m()\u001b[0m\n\u001b[1;32m      7\u001b[0m     \u001b[0mprint\u001b[0m\u001b[0;34m(\u001b[0m\u001b[0;34m\"Factorial:\"\u001b[0m\u001b[0;34m,\u001b[0m \u001b[0mf\u001b[0m\u001b[0;34m)\u001b[0m\u001b[0;34m\u001b[0m\u001b[0;34m\u001b[0m\u001b[0m\n\u001b[1;32m      8\u001b[0m \u001b[0mprint\u001b[0m\u001b[0;34m(\u001b[0m\u001b[0;34m\"Case 1:\"\u001b[0m\u001b[0;34m)\u001b[0m\u001b[0;34m\u001b[0m\u001b[0;34m\u001b[0m\u001b[0m\n\u001b[0;32m----> 9\u001b[0;31m \u001b[0mfact1\u001b[0m\u001b[0;34m(\u001b[0m\u001b[0;34m)\u001b[0m\u001b[0;34m\u001b[0m\u001b[0;34m\u001b[0m\u001b[0m\n\u001b[0m\u001b[1;32m     10\u001b[0m \u001b[0;34m\u001b[0m\u001b[0m\n\u001b[1;32m     11\u001b[0m \u001b[0;32mdef\u001b[0m \u001b[0mfact2\u001b[0m\u001b[0;34m(\u001b[0m\u001b[0mn\u001b[0m\u001b[0;34m)\u001b[0m\u001b[0;34m:\u001b[0m\u001b[0;34m\u001b[0m\u001b[0;34m\u001b[0m\u001b[0m\n",
            "\u001b[0;32m/tmp/ipython-input-1031418866.py\u001b[0m in \u001b[0;36mfact1\u001b[0;34m()\u001b[0m\n\u001b[1;32m      1\u001b[0m \u001b[0;32mdef\u001b[0m \u001b[0mfact1\u001b[0m\u001b[0;34m(\u001b[0m\u001b[0;34m)\u001b[0m\u001b[0;34m:\u001b[0m\u001b[0;34m\u001b[0m\u001b[0;34m\u001b[0m\u001b[0m\n\u001b[0;32m----> 2\u001b[0;31m     \u001b[0mn\u001b[0m \u001b[0;34m=\u001b[0m \u001b[0mint\u001b[0m\u001b[0;34m(\u001b[0m\u001b[0minput\u001b[0m\u001b[0;34m(\u001b[0m\u001b[0;34m\"Enter a number: \"\u001b[0m\u001b[0;34m)\u001b[0m\u001b[0;34m)\u001b[0m\u001b[0;34m\u001b[0m\u001b[0;34m\u001b[0m\u001b[0m\n\u001b[0m\u001b[1;32m      3\u001b[0m     \u001b[0ml\u001b[0m \u001b[0;34m=\u001b[0m \u001b[0;34m[\u001b[0m\u001b[0mi\u001b[0m \u001b[0;32mfor\u001b[0m \u001b[0mi\u001b[0m \u001b[0;32min\u001b[0m \u001b[0mrange\u001b[0m\u001b[0;34m(\u001b[0m\u001b[0;36m1\u001b[0m\u001b[0;34m,\u001b[0m \u001b[0mn\u001b[0m\u001b[0;34m+\u001b[0m\u001b[0;36m1\u001b[0m\u001b[0;34m)\u001b[0m\u001b[0;34m]\u001b[0m\u001b[0;34m\u001b[0m\u001b[0;34m\u001b[0m\u001b[0m\n\u001b[1;32m      4\u001b[0m     \u001b[0mf\u001b[0m \u001b[0;34m=\u001b[0m \u001b[0;36m1\u001b[0m\u001b[0;34m\u001b[0m\u001b[0;34m\u001b[0m\u001b[0m\n\u001b[1;32m      5\u001b[0m     \u001b[0;32mfor\u001b[0m \u001b[0mi\u001b[0m \u001b[0;32min\u001b[0m \u001b[0ml\u001b[0m\u001b[0;34m:\u001b[0m\u001b[0;34m\u001b[0m\u001b[0;34m\u001b[0m\u001b[0m\n",
            "\u001b[0;32m/usr/local/lib/python3.12/dist-packages/ipykernel/kernelbase.py\u001b[0m in \u001b[0;36mraw_input\u001b[0;34m(self, prompt)\u001b[0m\n\u001b[1;32m   1175\u001b[0m                 \u001b[0;34m\"raw_input was called, but this frontend does not support input requests.\"\u001b[0m\u001b[0;34m\u001b[0m\u001b[0;34m\u001b[0m\u001b[0m\n\u001b[1;32m   1176\u001b[0m             )\n\u001b[0;32m-> 1177\u001b[0;31m         return self._input_request(\n\u001b[0m\u001b[1;32m   1178\u001b[0m             \u001b[0mstr\u001b[0m\u001b[0;34m(\u001b[0m\u001b[0mprompt\u001b[0m\u001b[0;34m)\u001b[0m\u001b[0;34m,\u001b[0m\u001b[0;34m\u001b[0m\u001b[0;34m\u001b[0m\u001b[0m\n\u001b[1;32m   1179\u001b[0m             \u001b[0mself\u001b[0m\u001b[0;34m.\u001b[0m\u001b[0m_parent_ident\u001b[0m\u001b[0;34m[\u001b[0m\u001b[0;34m\"shell\"\u001b[0m\u001b[0;34m]\u001b[0m\u001b[0;34m,\u001b[0m\u001b[0;34m\u001b[0m\u001b[0;34m\u001b[0m\u001b[0m\n",
            "\u001b[0;32m/usr/local/lib/python3.12/dist-packages/ipykernel/kernelbase.py\u001b[0m in \u001b[0;36m_input_request\u001b[0;34m(self, prompt, ident, parent, password)\u001b[0m\n\u001b[1;32m   1217\u001b[0m             \u001b[0;32mexcept\u001b[0m \u001b[0mKeyboardInterrupt\u001b[0m\u001b[0;34m:\u001b[0m\u001b[0;34m\u001b[0m\u001b[0;34m\u001b[0m\u001b[0m\n\u001b[1;32m   1218\u001b[0m                 \u001b[0;31m# re-raise KeyboardInterrupt, to truncate traceback\u001b[0m\u001b[0;34m\u001b[0m\u001b[0;34m\u001b[0m\u001b[0m\n\u001b[0;32m-> 1219\u001b[0;31m                 \u001b[0;32mraise\u001b[0m \u001b[0mKeyboardInterrupt\u001b[0m\u001b[0;34m(\u001b[0m\u001b[0;34m\"Interrupted by user\"\u001b[0m\u001b[0;34m)\u001b[0m \u001b[0;32mfrom\u001b[0m \u001b[0;32mNone\u001b[0m\u001b[0;34m\u001b[0m\u001b[0;34m\u001b[0m\u001b[0m\n\u001b[0m\u001b[1;32m   1220\u001b[0m             \u001b[0;32mexcept\u001b[0m \u001b[0mException\u001b[0m\u001b[0;34m:\u001b[0m\u001b[0;34m\u001b[0m\u001b[0;34m\u001b[0m\u001b[0m\n\u001b[1;32m   1221\u001b[0m                 \u001b[0mself\u001b[0m\u001b[0;34m.\u001b[0m\u001b[0mlog\u001b[0m\u001b[0;34m.\u001b[0m\u001b[0mwarning\u001b[0m\u001b[0;34m(\u001b[0m\u001b[0;34m\"Invalid Message:\"\u001b[0m\u001b[0;34m,\u001b[0m \u001b[0mexc_info\u001b[0m\u001b[0;34m=\u001b[0m\u001b[0;32mTrue\u001b[0m\u001b[0;34m)\u001b[0m\u001b[0;34m\u001b[0m\u001b[0;34m\u001b[0m\u001b[0m\n",
            "\u001b[0;31mKeyboardInterrupt\u001b[0m: Interrupted by user"
          ]
        }
      ]
    },
    {
      "cell_type": "code",
      "source": [
        "#modules and packages\n",
        "import math"
      ],
      "metadata": {
        "id": "hJ3oU6mgWgyQ"
      },
      "execution_count": null,
      "outputs": []
    },
    {
      "cell_type": "code",
      "source": [
        "print(math.pow(2,3))"
      ],
      "metadata": {
        "colab": {
          "base_uri": "https://localhost:8080/",
          "height": 141
        },
        "id": "gFkwynJFmc0a",
        "outputId": "4322cda6-df54-43f5-8459-3301a709e470"
      },
      "execution_count": null,
      "outputs": [
        {
          "output_type": "error",
          "ename": "NameError",
          "evalue": "name 'math' is not defined",
          "traceback": [
            "\u001b[0;31m---------------------------------------------------------------------------\u001b[0m",
            "\u001b[0;31mNameError\u001b[0m                                 Traceback (most recent call last)",
            "\u001b[0;32m/tmp/ipython-input-2575479139.py\u001b[0m in \u001b[0;36m<cell line: 0>\u001b[0;34m()\u001b[0m\n\u001b[0;32m----> 1\u001b[0;31m \u001b[0mprint\u001b[0m\u001b[0;34m(\u001b[0m\u001b[0mmath\u001b[0m\u001b[0;34m.\u001b[0m\u001b[0mpow\u001b[0m\u001b[0;34m(\u001b[0m\u001b[0;36m2\u001b[0m\u001b[0;34m,\u001b[0m\u001b[0;36m3\u001b[0m\u001b[0;34m)\u001b[0m\u001b[0;34m)\u001b[0m\u001b[0;34m\u001b[0m\u001b[0;34m\u001b[0m\u001b[0m\n\u001b[0m",
            "\u001b[0;31mNameError\u001b[0m: name 'math' is not defined"
          ]
        }
      ]
    },
    {
      "cell_type": "code",
      "source": [
        "help(\"math\")"
      ],
      "metadata": {
        "colab": {
          "base_uri": "https://localhost:8080/"
        },
        "id": "Mb7X7pZ4l210",
        "outputId": "e7d130de-e0cb-4922-bc6a-a802f5d2a4d2"
      },
      "execution_count": null,
      "outputs": [
        {
          "output_type": "stream",
          "name": "stdout",
          "text": [
            "Help on built-in module math:\n",
            "\n",
            "NAME\n",
            "    math\n",
            "\n",
            "DESCRIPTION\n",
            "    This module provides access to the mathematical functions\n",
            "    defined by the C standard.\n",
            "\n",
            "FUNCTIONS\n",
            "    acos(x, /)\n",
            "        Return the arc cosine (measured in radians) of x.\n",
            "\n",
            "        The result is between 0 and pi.\n",
            "\n",
            "    acosh(x, /)\n",
            "        Return the inverse hyperbolic cosine of x.\n",
            "\n",
            "    asin(x, /)\n",
            "        Return the arc sine (measured in radians) of x.\n",
            "\n",
            "        The result is between -pi/2 and pi/2.\n",
            "\n",
            "    asinh(x, /)\n",
            "        Return the inverse hyperbolic sine of x.\n",
            "\n",
            "    atan(x, /)\n",
            "        Return the arc tangent (measured in radians) of x.\n",
            "\n",
            "        The result is between -pi/2 and pi/2.\n",
            "\n",
            "    atan2(y, x, /)\n",
            "        Return the arc tangent (measured in radians) of y/x.\n",
            "\n",
            "        Unlike atan(y/x), the signs of both x and y are considered.\n",
            "\n",
            "    atanh(x, /)\n",
            "        Return the inverse hyperbolic tangent of x.\n",
            "\n",
            "    cbrt(x, /)\n",
            "        Return the cube root of x.\n",
            "\n",
            "    ceil(x, /)\n",
            "        Return the ceiling of x as an Integral.\n",
            "\n",
            "        This is the smallest integer >= x.\n",
            "\n",
            "    comb(n, k, /)\n",
            "        Number of ways to choose k items from n items without repetition and without order.\n",
            "\n",
            "        Evaluates to n! / (k! * (n - k)!) when k <= n and evaluates\n",
            "        to zero when k > n.\n",
            "\n",
            "        Also called the binomial coefficient because it is equivalent\n",
            "        to the coefficient of k-th term in polynomial expansion of the\n",
            "        expression (1 + x)**n.\n",
            "\n",
            "        Raises TypeError if either of the arguments are not integers.\n",
            "        Raises ValueError if either of the arguments are negative.\n",
            "\n",
            "    copysign(x, y, /)\n",
            "        Return a float with the magnitude (absolute value) of x but the sign of y.\n",
            "\n",
            "        On platforms that support signed zeros, copysign(1.0, -0.0)\n",
            "        returns -1.0.\n",
            "\n",
            "    cos(x, /)\n",
            "        Return the cosine of x (measured in radians).\n",
            "\n",
            "    cosh(x, /)\n",
            "        Return the hyperbolic cosine of x.\n",
            "\n",
            "    degrees(x, /)\n",
            "        Convert angle x from radians to degrees.\n",
            "\n",
            "    dist(p, q, /)\n",
            "        Return the Euclidean distance between two points p and q.\n",
            "\n",
            "        The points should be specified as sequences (or iterables) of\n",
            "        coordinates.  Both inputs must have the same dimension.\n",
            "\n",
            "        Roughly equivalent to:\n",
            "            sqrt(sum((px - qx) ** 2.0 for px, qx in zip(p, q)))\n",
            "\n",
            "    erf(x, /)\n",
            "        Error function at x.\n",
            "\n",
            "    erfc(x, /)\n",
            "        Complementary error function at x.\n",
            "\n",
            "    exp(x, /)\n",
            "        Return e raised to the power of x.\n",
            "\n",
            "    exp2(x, /)\n",
            "        Return 2 raised to the power of x.\n",
            "\n",
            "    expm1(x, /)\n",
            "        Return exp(x)-1.\n",
            "\n",
            "        This function avoids the loss of precision involved in the direct evaluation of exp(x)-1 for small x.\n",
            "\n",
            "    fabs(x, /)\n",
            "        Return the absolute value of the float x.\n",
            "\n",
            "    factorial(n, /)\n",
            "        Find n!.\n",
            "\n",
            "        Raise a ValueError if x is negative or non-integral.\n",
            "\n",
            "    floor(x, /)\n",
            "        Return the floor of x as an Integral.\n",
            "\n",
            "        This is the largest integer <= x.\n",
            "\n",
            "    fmod(x, y, /)\n",
            "        Return fmod(x, y), according to platform C.\n",
            "\n",
            "        x % y may differ.\n",
            "\n",
            "    frexp(x, /)\n",
            "        Return the mantissa and exponent of x, as pair (m, e).\n",
            "\n",
            "        m is a float and e is an int, such that x = m * 2.**e.\n",
            "        If x is 0, m and e are both 0.  Else 0.5 <= abs(m) < 1.0.\n",
            "\n",
            "    fsum(seq, /)\n",
            "        Return an accurate floating-point sum of values in the iterable seq.\n",
            "\n",
            "        Assumes IEEE-754 floating-point arithmetic.\n",
            "\n",
            "    gamma(x, /)\n",
            "        Gamma function at x.\n",
            "\n",
            "    gcd(*integers)\n",
            "        Greatest Common Divisor.\n",
            "\n",
            "    hypot(...)\n",
            "        hypot(*coordinates) -> value\n",
            "\n",
            "        Multidimensional Euclidean distance from the origin to a point.\n",
            "\n",
            "        Roughly equivalent to:\n",
            "            sqrt(sum(x**2 for x in coordinates))\n",
            "\n",
            "        For a two dimensional point (x, y), gives the hypotenuse\n",
            "        using the Pythagorean theorem:  sqrt(x*x + y*y).\n",
            "\n",
            "        For example, the hypotenuse of a 3/4/5 right triangle is:\n",
            "\n",
            "            >>> hypot(3.0, 4.0)\n",
            "            5.0\n",
            "\n",
            "    isclose(a, b, *, rel_tol=1e-09, abs_tol=0.0)\n",
            "        Determine whether two floating-point numbers are close in value.\n",
            "\n",
            "          rel_tol\n",
            "            maximum difference for being considered \"close\", relative to the\n",
            "            magnitude of the input values\n",
            "          abs_tol\n",
            "            maximum difference for being considered \"close\", regardless of the\n",
            "            magnitude of the input values\n",
            "\n",
            "        Return True if a is close in value to b, and False otherwise.\n",
            "\n",
            "        For the values to be considered close, the difference between them\n",
            "        must be smaller than at least one of the tolerances.\n",
            "\n",
            "        -inf, inf and NaN behave similarly to the IEEE 754 Standard.  That\n",
            "        is, NaN is not close to anything, even itself.  inf and -inf are\n",
            "        only close to themselves.\n",
            "\n",
            "    isfinite(x, /)\n",
            "        Return True if x is neither an infinity nor a NaN, and False otherwise.\n",
            "\n",
            "    isinf(x, /)\n",
            "        Return True if x is a positive or negative infinity, and False otherwise.\n",
            "\n",
            "    isnan(x, /)\n",
            "        Return True if x is a NaN (not a number), and False otherwise.\n",
            "\n",
            "    isqrt(n, /)\n",
            "        Return the integer part of the square root of the input.\n",
            "\n",
            "    lcm(*integers)\n",
            "        Least Common Multiple.\n",
            "\n",
            "    ldexp(x, i, /)\n",
            "        Return x * (2**i).\n",
            "\n",
            "        This is essentially the inverse of frexp().\n",
            "\n",
            "    lgamma(x, /)\n",
            "        Natural logarithm of absolute value of Gamma function at x.\n",
            "\n",
            "    log(...)\n",
            "        log(x, [base=math.e])\n",
            "        Return the logarithm of x to the given base.\n",
            "\n",
            "        If the base is not specified, returns the natural logarithm (base e) of x.\n",
            "\n",
            "    log10(x, /)\n",
            "        Return the base 10 logarithm of x.\n",
            "\n",
            "    log1p(x, /)\n",
            "        Return the natural logarithm of 1+x (base e).\n",
            "\n",
            "        The result is computed in a way which is accurate for x near zero.\n",
            "\n",
            "    log2(x, /)\n",
            "        Return the base 2 logarithm of x.\n",
            "\n",
            "    modf(x, /)\n",
            "        Return the fractional and integer parts of x.\n",
            "\n",
            "        Both results carry the sign of x and are floats.\n",
            "\n",
            "    nextafter(x, y, /, *, steps=None)\n",
            "        Return the floating-point value the given number of steps after x towards y.\n",
            "\n",
            "        If steps is not specified or is None, it defaults to 1.\n",
            "\n",
            "        Raises a TypeError, if x or y is not a double, or if steps is not an integer.\n",
            "        Raises ValueError if steps is negative.\n",
            "\n",
            "    perm(n, k=None, /)\n",
            "        Number of ways to choose k items from n items without repetition and with order.\n",
            "\n",
            "        Evaluates to n! / (n - k)! when k <= n and evaluates\n",
            "        to zero when k > n.\n",
            "\n",
            "        If k is not specified or is None, then k defaults to n\n",
            "        and the function returns n!.\n",
            "\n",
            "        Raises TypeError if either of the arguments are not integers.\n",
            "        Raises ValueError if either of the arguments are negative.\n",
            "\n",
            "    pow(x, y, /)\n",
            "        Return x**y (x to the power of y).\n",
            "\n",
            "    prod(iterable, /, *, start=1)\n",
            "        Calculate the product of all the elements in the input iterable.\n",
            "\n",
            "        The default start value for the product is 1.\n",
            "\n",
            "        When the iterable is empty, return the start value.  This function is\n",
            "        intended specifically for use with numeric values and may reject\n",
            "        non-numeric types.\n",
            "\n",
            "    radians(x, /)\n",
            "        Convert angle x from degrees to radians.\n",
            "\n",
            "    remainder(x, y, /)\n",
            "        Difference between x and the closest integer multiple of y.\n",
            "\n",
            "        Return x - n*y where n*y is the closest integer multiple of y.\n",
            "        In the case where x is exactly halfway between two multiples of\n",
            "        y, the nearest even value of n is used. The result is always exact.\n",
            "\n",
            "    sin(x, /)\n",
            "        Return the sine of x (measured in radians).\n",
            "\n",
            "    sinh(x, /)\n",
            "        Return the hyperbolic sine of x.\n",
            "\n",
            "    sqrt(x, /)\n",
            "        Return the square root of x.\n",
            "\n",
            "    sumprod(p, q, /)\n",
            "        Return the sum of products of values from two iterables p and q.\n",
            "\n",
            "        Roughly equivalent to:\n",
            "\n",
            "            sum(itertools.starmap(operator.mul, zip(p, q, strict=True)))\n",
            "\n",
            "        For float and mixed int/float inputs, the intermediate products\n",
            "        and sums are computed with extended precision.\n",
            "\n",
            "    tan(x, /)\n",
            "        Return the tangent of x (measured in radians).\n",
            "\n",
            "    tanh(x, /)\n",
            "        Return the hyperbolic tangent of x.\n",
            "\n",
            "    trunc(x, /)\n",
            "        Truncates the Real x to the nearest Integral toward 0.\n",
            "\n",
            "        Uses the __trunc__ magic method.\n",
            "\n",
            "    ulp(x, /)\n",
            "        Return the value of the least significant bit of the float x.\n",
            "\n",
            "DATA\n",
            "    e = 2.718281828459045\n",
            "    inf = inf\n",
            "    nan = nan\n",
            "    pi = 3.141592653589793\n",
            "    tau = 6.283185307179586\n",
            "\n",
            "FILE\n",
            "    (built-in)\n",
            "\n",
            "\n"
          ]
        }
      ]
    },
    {
      "cell_type": "code",
      "source": [
        "print(math.pow(2,4))"
      ],
      "metadata": {
        "colab": {
          "base_uri": "https://localhost:8080/"
        },
        "id": "nQmcyI-_nGNu",
        "outputId": "9243990b-e233-44a4-b71d-ef9f929ee4e0"
      },
      "execution_count": null,
      "outputs": [
        {
          "output_type": "stream",
          "name": "stdout",
          "text": [
            "16.0\n"
          ]
        }
      ]
    },
    {
      "cell_type": "code",
      "source": [
        "from math import factorial,sqrt,sin\n",
        "factorial(5)\n"
      ],
      "metadata": {
        "colab": {
          "base_uri": "https://localhost:8080/"
        },
        "id": "VB3msC-gnpoY",
        "outputId": "800be829-3f13-4b99-87ef-60a12915ebf1"
      },
      "execution_count": null,
      "outputs": [
        {
          "output_type": "execute_result",
          "data": {
            "text/plain": [
              "120"
            ]
          },
          "metadata": {},
          "execution_count": 19
        }
      ]
    },
    {
      "cell_type": "code",
      "source": [
        "math.ceil(3)"
      ],
      "metadata": {
        "colab": {
          "base_uri": "https://localhost:8080/"
        },
        "id": "gO6CqqphojYs",
        "outputId": "77d3193c-74ff-4f05-b91c-c208e2d97e53"
      },
      "execution_count": null,
      "outputs": [
        {
          "output_type": "execute_result",
          "data": {
            "text/plain": [
              "3"
            ]
          },
          "metadata": {},
          "execution_count": 21
        }
      ]
    },
    {
      "cell_type": "code",
      "source": [
        "#import pow ,cos,floor\n",
        "from math import pow,cos,floor\n",
        "pow(1,2)\n",
        "cos(34)\n",
        "floor(3.2)"
      ],
      "metadata": {
        "colab": {
          "base_uri": "https://localhost:8080/"
        },
        "id": "CUIoeqaQouMW",
        "outputId": "766880db-b9c9-4aef-8716-10f4c174d5a7"
      },
      "execution_count": null,
      "outputs": [
        {
          "output_type": "execute_result",
          "data": {
            "text/plain": [
              "3"
            ]
          },
          "metadata": {},
          "execution_count": 23
        }
      ]
    },
    {
      "cell_type": "code",
      "source": [
        "import calculator"
      ],
      "metadata": {
        "id": "LdDN0GtGqkcE"
      },
      "execution_count": null,
      "outputs": []
    },
    {
      "cell_type": "code",
      "source": [
        "calculator.add(1,2)"
      ],
      "metadata": {
        "colab": {
          "base_uri": "https://localhost:8080/"
        },
        "id": "x7o69cLAu-LF",
        "outputId": "a74d7f69-e011-4911-be0d-49a64b9f1e2a"
      },
      "execution_count": null,
      "outputs": [
        {
          "output_type": "execute_result",
          "data": {
            "text/plain": [
              "3"
            ]
          },
          "metadata": {},
          "execution_count": 26
        }
      ]
    },
    {
      "cell_type": "code",
      "source": [
        "calculator.mul(33,2)"
      ],
      "metadata": {
        "colab": {
          "base_uri": "https://localhost:8080/"
        },
        "id": "OxGerB2IvUbb",
        "outputId": "f0f538bc-e30d-4d45-db28-d41a741c4a77"
      },
      "execution_count": null,
      "outputs": [
        {
          "output_type": "execute_result",
          "data": {
            "text/plain": [
              "66"
            ]
          },
          "metadata": {},
          "execution_count": 28
        }
      ]
    },
    {
      "cell_type": "code",
      "source": [
        "#create a module to print prime number in a given range, string reversal, factorial\n",
        "import calculator\n",
        "\n",
        "# Prime numbers\n",
        "a = int(input(\"Enter the starting number: \"))\n",
        "s = int(input(\"Enter the ending number: \"))\n",
        "for n in range(a, s+1):\n",
        "    if n > 1:\n",
        "        for i in range(2, n):\n",
        "            if n % i == 0:\n",
        "                break\n",
        "        else:\n",
        "            print(n)\n",
        "\n",
        "def reverse_string(s):\n",
        "    return s[::-1]\n",
        "s = input(\"Enter a string: \")\n",
        "print(\"Reversed string:\", reverse_string(s))\n",
        "s = int(input(\"Enter a number: \"))\n",
        "l = [i for i in range(1, s+1)]\n",
        "f = 1\n",
        "for i in l:\n",
        "    f *= i\n",
        "print(\"Factorial:\", f)\n",
        "\n"
      ],
      "metadata": {
        "colab": {
          "base_uri": "https://localhost:8080/"
        },
        "id": "li7a_lABvdSq",
        "outputId": "2d2b81df-6201-490a-f32b-072759c2d50f"
      },
      "execution_count": null,
      "outputs": [
        {
          "output_type": "stream",
          "name": "stdout",
          "text": [
            "Enter the starting number: 1\n",
            "Enter the ending number: 10\n",
            "2\n",
            "3\n",
            "5\n",
            "7\n",
            "Enter a string: malayalam\n",
            "Reversed string: malayalam\n",
            "Enter a number: 5\n",
            "Factorial: 120\n"
          ]
        }
      ]
    },
    {
      "cell_type": "code",
      "source": [
        "#file handling in python\n",
        "f1=open(\"/content/drive/MyDrive/file 1.txt\",\"r\")\n",
        "#read lines\n",
        "f=f1.readlines()\n",
        "for i in f:\n",
        "  print(i.strip())\n",
        "print(type(f))\n",
        "f1.close()"
      ],
      "metadata": {
        "colab": {
          "base_uri": "https://localhost:8080/"
        },
        "id": "71DiLrHvtb_b",
        "outputId": "55496173-7f04-4acd-dbce-87cbdbc06bd9"
      },
      "execution_count": null,
      "outputs": [
        {
          "output_type": "stream",
          "name": "stdout",
          "text": [
            "first line\n",
            "second line\n",
            "third line\n",
            "<class 'list'>\n"
          ]
        }
      ]
    },
    {
      "cell_type": "code",
      "source": [
        "#read the content from file 1 using readlines and list comprehension\n",
        "f1=open(\"/content/drive/MyDrive/file 1.txt\",\"r\")\n",
        "f=f1.readlines()\n",
        "l=[i.strip() for i in f]\n",
        "for i in l:\n",
        "  print(i)\n",
        "print(l)\n",
        "f1.close()"
      ],
      "metadata": {
        "colab": {
          "base_uri": "https://localhost:8080/"
        },
        "id": "2kU-8g-5z56w",
        "outputId": "75260793-12fb-4c88-baf7-19e862e6529c"
      },
      "execution_count": null,
      "outputs": [
        {
          "output_type": "stream",
          "name": "stdout",
          "text": [
            "first line\n",
            "second line\n",
            "third line\n",
            "['first line', 'second line', 'third line']\n"
          ]
        }
      ]
    },
    {
      "cell_type": "code",
      "source": [
        "#read the content from file1 and convert it into capital letters\n",
        "f1=open(\"/content/drive/MyDrive/file 1.txt\",\"r\")\n",
        "f=f1.readlines()\n",
        "l=[i.strip().upper() for i in f]\n",
        "for i in l:\n",
        "  print(i)\n",
        "  f1.close()\n",
        "print(l)"
      ],
      "metadata": {
        "colab": {
          "base_uri": "https://localhost:8080/"
        },
        "id": "X-kSL-nS1MCN",
        "outputId": "86ef834d-d0cc-4ace-981a-87e862e9abe5"
      },
      "execution_count": null,
      "outputs": [
        {
          "output_type": "stream",
          "name": "stdout",
          "text": [
            "FIRST LINE\n",
            "SECOND LINE\n",
            "THIRD LINE\n",
            "['FIRST LINE', 'SECOND LINE', 'THIRD LINE']\n"
          ]
        }
      ]
    },
    {
      "cell_type": "code",
      "source": [
        "#readlines()\n",
        "f1=open(\"/content/drive/MyDrive/file 1.txt\",\"r\")\n",
        "f=f1.readline()\n",
        "print(f)\n",
        "print(type(f))\n",
        "a=f1.readline()\n",
        "print(a)\n",
        "f1.close()"
      ],
      "metadata": {
        "colab": {
          "base_uri": "https://localhost:8080/"
        },
        "id": "VR494M9S2Thf",
        "outputId": "bfb8070b-8626-41ef-c8ec-bd95dd8331b5"
      },
      "execution_count": null,
      "outputs": [
        {
          "output_type": "stream",
          "name": "stdout",
          "text": [
            "first line\n",
            "\n",
            "<class 'str'>\n",
            "second line\n",
            "\n"
          ]
        }
      ]
    },
    {
      "cell_type": "code",
      "source": [
        "#read()\n",
        "f1=open(\"/content/drive/MyDrive/file 1.txt\",\"r\")\n",
        "f=f1.read(2)\n",
        "f=f1.read(2)\n",
        "f=f1.read(2)\n",
        "f=f1.tell()\n",
        "f1.seek(0)\n",
        "f=f1.read(2)\n",
        "print(f)\n",
        "print(type(f))\n",
        "f1.close()"
      ],
      "metadata": {
        "colab": {
          "base_uri": "https://localhost:8080/"
        },
        "id": "qw1fb6Af3PiF",
        "outputId": "8eebc9f8-dbc7-4212-af4f-125fb5e07ca7"
      },
      "execution_count": null,
      "outputs": [
        {
          "output_type": "stream",
          "name": "stdout",
          "text": [
            "fi\n",
            "<class 'str'>\n"
          ]
        }
      ]
    },
    {
      "cell_type": "code",
      "source": [
        "f2=open(\"/content/drive/MyDrive/file 2.txt\",\"w\")\n",
        "#write\n",
        "f2.write(\"hello\\n\")\n",
        "f2.write(\"how are you\\n\")\n",
        "f2.write(\"bye\")\n",
        "\n",
        "f2.close()"
      ],
      "metadata": {
        "id": "HB6ovHBT4Bia"
      },
      "execution_count": null,
      "outputs": []
    },
    {
      "cell_type": "code",
      "source": [
        "f2=open(\"/content/drive/MyDrive/file 2.txt\",\"a\")\n",
        "l=[\"good\\n\",\"morning\\n\",\"bye\"]\n",
        "f2.writelines(l)\n",
        "f2.close()\n"
      ],
      "metadata": {
        "id": "SfJI3oPL7Ez4"
      },
      "execution_count": null,
      "outputs": []
    },
    {
      "cell_type": "code",
      "source": [
        "#copy the content from first file to second\n",
        "f1=open(\"/content/drive/MyDrive/file 1.txt\",\"r\")\n",
        "f2=open(\"/content/drive/MyDrive/file 2.txt\",\"w\")\n",
        "l=f1.readlines()\n",
        "f2.writelines(f)\n",
        "f1.close()\n",
        "f2.close()\n",
        "\n"
      ],
      "metadata": {
        "collapsed": true,
        "id": "KIcd0Wiy8brH"
      },
      "execution_count": null,
      "outputs": []
    },
    {
      "cell_type": "code",
      "source": [
        "#find number of lines in files1\n",
        "f1=open(\"/content/drive/MyDrive/file 1.txt\",\"r\")\n",
        "l=f1.read()\n",
        "print(l.count(\"\\n\")+1)\n",
        "f1.close()"
      ],
      "metadata": {
        "colab": {
          "base_uri": "https://localhost:8080/"
        },
        "id": "9sD-6tPO-Xyb",
        "outputId": "98c7aaeb-4e45-4b3b-e933-eae5c4262648"
      },
      "execution_count": null,
      "outputs": [
        {
          "output_type": "stream",
          "name": "stdout",
          "text": [
            "3\n"
          ]
        }
      ]
    },
    {
      "cell_type": "code",
      "source": [
        "#find occurance of each word in a file\n",
        "f1=open(\"/content/drive/MyDrive/file 1.txt\",\"r\")\n",
        "l=f1.read()\n",
        "l=f.split()\n",
        "print(l)\n",
        "d={}\n",
        "for i in l:\n",
        "  if i not in d:\n",
        "    d[i]=1\n",
        "  else:\n",
        "    d[i]=1\n",
        "print(d)\n",
        "f1.close()"
      ],
      "metadata": {
        "colab": {
          "base_uri": "https://localhost:8080/"
        },
        "id": "Vq4LpkFm_Svn",
        "outputId": "e4ed5322-e710-4f97-af14-5d384c3344b2"
      },
      "execution_count": null,
      "outputs": [
        {
          "output_type": "stream",
          "name": "stdout",
          "text": [
            "['first', 'line', 'second', 'line', 'third', 'line']\n",
            "{'first': 1, 'line': 1, 'second': 1, 'third': 1}\n"
          ]
        }
      ]
    },
    {
      "cell_type": "code",
      "source": [
        "#write a line to the file  and read the same\n",
        "f1=open(\"/content/drive/MyDrive/file 2.txt\",\"w\")\n",
        "f1.write(\"hello\\n\")\n",
        "f1.write(\"how are you\\n\")\n",
        "f1.write(\"bye\")\n",
        "f1.close()"
      ],
      "metadata": {
        "id": "x0XkHDjtB6FZ"
      },
      "execution_count": null,
      "outputs": []
    },
    {
      "cell_type": "code",
      "source": [
        "#wap to count the even numbers from 800-1000 both inclusive\n",
        "#wap that counts the number of century years from 1800 to 2500\n",
        "#wap the displays the first 10 triangular numbers (s number that can form an equlateral triangle. the nth triangular number is the sum of the first n natural numbers for example, the third triangular number is 1+2+3=6)\n",
        "#wap to print the following pattern\n",
        "*\n",
        "##\n",
        "***\n",
        "####\n",
        "*****\n",
        "######\n",
        "#wap to print the following pattern\n",
        "#1\n",
        "#1 4\n",
        "#1 4 9\n",
        "#1 4 9 16\n",
        "#1 4 9 16 25\n",
        "#1 4 9 16 25 36"
      ],
      "metadata": {
        "id": "9vcGtVil3diZ"
      },
      "execution_count": null,
      "outputs": []
    },
    {
      "cell_type": "code",
      "source": [
        "l = [i for i in range(800, 1001) if i % 2 == 0]\n",
        "print(\"Total even numbers:\", len(l))"
      ],
      "metadata": {
        "colab": {
          "base_uri": "https://localhost:8080/"
        },
        "id": "uvO0gUpx6jS4",
        "outputId": "a22ec3b9-28b3-4a43-a802-9cd14487fd0e"
      },
      "execution_count": null,
      "outputs": [
        {
          "output_type": "stream",
          "name": "stdout",
          "text": [
            "Total even numbers: 101\n"
          ]
        }
      ]
    },
    {
      "cell_type": "code",
      "source": [
        "l= [year for year in range(1800, 2501) if year % 100 == 0]\n",
        "print(\"Total century years:\", len(l))"
      ],
      "metadata": {
        "colab": {
          "base_uri": "https://localhost:8080/"
        },
        "id": "wtwHufP-7qyY",
        "outputId": "6e65122d-944d-4b66-a714-d73e324a0efa"
      },
      "execution_count": null,
      "outputs": [
        {
          "output_type": "stream",
          "name": "stdout",
          "text": [
            "Total century years: 8\n"
          ]
        }
      ]
    },
    {
      "cell_type": "code",
      "source": [
        "l = [(n * (n + 1)) // 2 for n in range(1, 11)]\n",
        "print(\"First 10 Triangular Numbers:\", l)\n"
      ],
      "metadata": {
        "colab": {
          "base_uri": "https://localhost:8080/"
        },
        "id": "jv9P6i6v8a22",
        "outputId": "1b47d696-3400-47b9-c0a9-65a82e8795e8"
      },
      "execution_count": null,
      "outputs": [
        {
          "output_type": "stream",
          "name": "stdout",
          "text": [
            "First 10 Triangular Numbers: [1, 3, 6, 10, 15, 21, 28, 36, 45, 55]\n"
          ]
        }
      ]
    },
    {
      "cell_type": "code",
      "source": [
        "for i in range(6):\n",
        "  for j in range(i+1):\n",
        "    print(\"#\",end=\" \")\n",
        "  print()"
      ],
      "metadata": {
        "colab": {
          "base_uri": "https://localhost:8080/"
        },
        "id": "o04nduRx97SE",
        "outputId": "a9ab0030-1d3e-42b8-921d-fe3bc6eb8558"
      },
      "execution_count": null,
      "outputs": [
        {
          "output_type": "stream",
          "name": "stdout",
          "text": [
            "# \n",
            "# # \n",
            "# # # \n",
            "# # # # \n",
            "# # # # # \n",
            "# # # # # # \n"
          ]
        }
      ]
    },
    {
      "cell_type": "code",
      "source": [
        "for i in range(6):\n",
        "    for j in range(i + 1):\n",
        "        if i % 2 == 0:\n",
        "            print(\"*\", end=\" \")\n",
        "        else:\n",
        "            print(\"#\", end=\" \")\n",
        "    print()\n"
      ],
      "metadata": {
        "colab": {
          "base_uri": "https://localhost:8080/"
        },
        "id": "OcpBfORtAlBG",
        "outputId": "be10d26f-d486-4c7c-f4d8-ed57a98cd255"
      },
      "execution_count": null,
      "outputs": [
        {
          "output_type": "stream",
          "name": "stdout",
          "text": [
            "* \n",
            "# # \n",
            "* * * \n",
            "# # # # \n",
            "* * * * * \n",
            "# # # # # # \n"
          ]
        }
      ]
    },
    {
      "cell_type": "code",
      "source": [
        "for i in range(1, 7):\n",
        "    for j in range(1, i+1):\n",
        "        print(j*j, end=\" \")\n",
        "    print()"
      ],
      "metadata": {
        "colab": {
          "base_uri": "https://localhost:8080/"
        },
        "id": "xAPEqHsoA3-W",
        "outputId": "2bbd06b2-98b5-4382-c6a7-8f675ea9da25"
      },
      "execution_count": null,
      "outputs": [
        {
          "output_type": "stream",
          "name": "stdout",
          "text": [
            "1 \n",
            "1 4 \n",
            "1 4 9 \n",
            "1 4 9 16 \n",
            "1 4 9 16 25 \n",
            "1 4 9 16 25 36 \n"
          ]
        }
      ]
    },
    {
      "cell_type": "code",
      "source": [
        "#wap that asks the user to input and determine if that number is an odd number greater than 10\n",
        "n = int(input(\"Enter a number: \"))\n",
        "\n",
        "if n % 2 != 0 and n > 10:\n",
        "    print(n, \"is an odd number greater than 10.\")\n",
        "elif n % 2 != 0 and n <= 10:\n",
        "    print(n, \"is odd but NOT greater than 10.\")\n",
        "elif n % 2 == 0 and n > 10:\n",
        "    print(n, \"is greater than 10 but NOT odd.\")\n",
        "else:\n",
        "    print(n, \"is even number greater than 10.\")\n"
      ],
      "metadata": {
        "colab": {
          "base_uri": "https://localhost:8080/"
        },
        "id": "SnDX_43VCV0W",
        "outputId": "b63aa22e-bcc8-46fe-dacb-823ec8b922f7"
      },
      "execution_count": null,
      "outputs": [
        {
          "output_type": "stream",
          "name": "stdout",
          "text": [
            "Enter a number: 45\n",
            "45 is an odd number greater than 10.\n"
          ]
        }
      ]
    },
    {
      "cell_type": "code",
      "source": [
        "#wap the asks the user to input a letter from the english alphabet and display wheather the charector is vowel or consonent\n",
        "n = input(\"Enter a letter: \")\n",
        "if n.lower() in ['a', 'e', 'i', 'o', 'u']:\n",
        "    print(n, \"is a vowel.\")\n",
        "else:\n",
        "    print(n, \"is a consonant.\")\n"
      ],
      "metadata": {
        "colab": {
          "base_uri": "https://localhost:8080/"
        },
        "id": "VUYGqPpEGAkm",
        "outputId": "e7cb85f3-a018-4f1c-bd6c-104f355e5e58"
      },
      "execution_count": null,
      "outputs": [
        {
          "output_type": "stream",
          "name": "stdout",
          "text": [
            "Enter a letter: a\n",
            "a is a vowel.\n"
          ]
        }
      ]
    },
    {
      "cell_type": "code",
      "source": [
        "#Get radius of circle from user then display area, perimeter of circle\n",
        "n = float(input(\"Enter radius of circle: \"))\n",
        "\n",
        "area = 3.14 * n * n\n",
        "perimeter = 2 * 3.14 * n\n",
        "\n",
        "print(\"Area of circle:\", area)\n",
        "print(\"Perimeter of circle:\", perimeter)"
      ],
      "metadata": {
        "colab": {
          "base_uri": "https://localhost:8080/"
        },
        "id": "NePnL7HESVuv",
        "outputId": "d08c33ba-a82e-4f1f-c842-ffe1f9bbca89"
      },
      "execution_count": null,
      "outputs": [
        {
          "output_type": "stream",
          "name": "stdout",
          "text": [
            "Enter radius of circle: 3\n",
            "Area of circle: 28.259999999999998\n",
            "Perimeter of circle: 18.84\n"
          ]
        }
      ]
    },
    {
      "cell_type": "code",
      "source": [
        "#write a function that takes a number as parameter and returns whether it is prime or not\n",
        "def is_prime(n):\n",
        "    if n <= 1:\n",
        "        return False\n",
        "    for i in range(2, int(n**0.5) + 1):\n",
        "        if n % i == 0:\n",
        "            return False\n",
        "    return True\n",
        "\n",
        "num = int(input(\"Enter a number: \"))\n",
        "if is_prime(num):\n",
        "    print(num, \"is a Prime number\")\n",
        "else:\n",
        "    print(num, \"is NOT a Prime number\")"
      ],
      "metadata": {
        "colab": {
          "base_uri": "https://localhost:8080/"
        },
        "id": "DCyz-q9JS5nB",
        "outputId": "d2b96d8a-d55c-4652-af56-cd7184d2e3b9"
      },
      "execution_count": null,
      "outputs": [
        {
          "output_type": "stream",
          "name": "stdout",
          "text": [
            "Enter a number: 4\n",
            "4 is NOT a Prime number\n"
          ]
        }
      ]
    },
    {
      "cell_type": "code",
      "source": [
        "#write a function that takes two numbers as parameters and return a number that has greatest last digit eg : numbers 127 and 196 return 127 because last digit 7 is larger than last digit 6\n",
        "def greatest_last_digit(a, b):\n",
        "    if a % 10 > b % 10:\n",
        "        return a\n",
        "    elif b % 10 > a % 10:\n",
        "        return b\n",
        "    else:\n",
        "        return a\n",
        "\n",
        "x = int(input(\"Enter first number: \"))\n",
        "y = int(input(\"Enter second number: \"))\n",
        "\n",
        "print(\" greatest last digit:\", greatest_last_digit(x, y))"
      ],
      "metadata": {
        "colab": {
          "base_uri": "https://localhost:8080/"
        },
        "id": "o_mWJdOSWPFr",
        "outputId": "c9e75c5d-cdf2-46be-9f9b-cbea4db0a92a"
      },
      "execution_count": null,
      "outputs": [
        {
          "output_type": "stream",
          "name": "stdout",
          "text": [
            "Enter first number: 4\n",
            "Enter second number: 6\n",
            " greatest last digit: 6\n"
          ]
        }
      ]
    },
    {
      "cell_type": "code",
      "source": [
        "def gcd(a, b):\n",
        "    while b != 0:\n",
        "        a, b = b, a % b\n",
        "    return a\n",
        "\n",
        "x = int(input(\"Enter first number: \"))\n",
        "y = int(input(\"Enter second number: \"))\n",
        "print(\"GCD of\", x, \"and\", y, \"is:\", gcd(x, y))"
      ],
      "metadata": {
        "colab": {
          "base_uri": "https://localhost:8080/"
        },
        "id": "evNdMZBJZHHi",
        "outputId": "6b0dc938-e7e6-41e9-9c67-3648fa76e54e"
      },
      "execution_count": null,
      "outputs": [
        {
          "output_type": "stream",
          "name": "stdout",
          "text": [
            "Enter first number: 3\n",
            "Enter second number: 4\n",
            "GCD of 3 and 4 is: 1\n"
          ]
        }
      ]
    },
    {
      "cell_type": "code",
      "source": [
        "#write a function that takes 3 numbers as parameter then returns largest number and smallest number use keyword arguments\n",
        "def find_min_max(a=0, b=0, c=0):\n",
        "    largest = max(a, b, c)\n",
        "    smallest = min(a, b, c)\n",
        "    return largest, smallest\n",
        "\n",
        "big, small = find_min_max(a=15, b=9, c=27)\n",
        "print(\"Largest:\", big)\n",
        "print(\"Smallest:\", small)"
      ],
      "metadata": {
        "colab": {
          "base_uri": "https://localhost:8080/"
        },
        "id": "cnpG3tXaZQAf",
        "outputId": "d2817541-9f09-46bb-e145-de653127b684"
      },
      "execution_count": null,
      "outputs": [
        {
          "output_type": "stream",
          "name": "stdout",
          "text": [
            "Largest: 27\n",
            "Smallest: 9\n"
          ]
        }
      ]
    },
    {
      "cell_type": "code",
      "source": [
        "#regular expression\n",
        "import re\n",
        "#match\n",
        "#search\n",
        "#sub\n",
        "#findall\n",
        "s=\"python is a good programming language\"\n",
        "re.match(\"python\",s)\n",
        "print(re.match(\"is\",s))"
      ],
      "metadata": {
        "id": "YilKclSQac3H",
        "colab": {
          "base_uri": "https://localhost:8080/"
        },
        "outputId": "af51eb14-4aaa-48e8-bd8d-8cfc673b8b31"
      },
      "execution_count": null,
      "outputs": [
        {
          "output_type": "stream",
          "name": "stdout",
          "text": [
            "None\n"
          ]
        }
      ]
    },
    {
      "cell_type": "code",
      "source": [
        "#search\n",
        "re.search(\"is\",s)"
      ],
      "metadata": {
        "colab": {
          "base_uri": "https://localhost:8080/"
        },
        "id": "jndhhwNOWv-3",
        "outputId": "77729ca8-7f1d-4e97-864a-354fbece265c"
      },
      "execution_count": null,
      "outputs": [
        {
          "output_type": "execute_result",
          "data": {
            "text/plain": [
              "<re.Match object; span=(7, 9), match='is'>"
            ]
          },
          "metadata": {},
          "execution_count": 6
        }
      ]
    },
    {
      "cell_type": "code",
      "source": [
        "#findal\n",
        "re.findall(\"is\",s)"
      ],
      "metadata": {
        "colab": {
          "base_uri": "https://localhost:8080/"
        },
        "id": "Ff2fL_R6YAi_",
        "outputId": "cc883762-ece8-4dba-8464-42970e79bdf0"
      },
      "execution_count": null,
      "outputs": [
        {
          "output_type": "execute_result",
          "data": {
            "text/plain": [
              "['is']"
            ]
          },
          "metadata": {},
          "execution_count": 8
        }
      ]
    },
    {
      "cell_type": "code",
      "source": [
        "#sub\n",
        "re.sub(\"is\",\"was\",s)"
      ],
      "metadata": {
        "colab": {
          "base_uri": "https://localhost:8080/",
          "height": 36
        },
        "id": "GMaFgWHFYaK9",
        "outputId": "7dd897cc-b02a-44bd-c8ce-8f6f181c8394"
      },
      "execution_count": null,
      "outputs": [
        {
          "output_type": "execute_result",
          "data": {
            "text/plain": [
              "'python was a good programming language'"
            ],
            "application/vnd.google.colaboratory.intrinsic+json": {
              "type": "string"
            }
          },
          "metadata": {},
          "execution_count": 10
        }
      ]
    },
    {
      "cell_type": "code",
      "source": [
        "#wap to search a particular word in a given string using re\n",
        "s=\"apple are oranges\"\n",
        "re.search(\"are\",s)\n"
      ],
      "metadata": {
        "colab": {
          "base_uri": "https://localhost:8080/"
        },
        "id": "ph7B_AXIYqyp",
        "outputId": "a71ca6c0-7a13-4c78-fa8c-3c41df40156e"
      },
      "execution_count": null,
      "outputs": [
        {
          "output_type": "execute_result",
          "data": {
            "text/plain": [
              "<re.Match object; span=(6, 9), match='are'>"
            ]
          },
          "metadata": {},
          "execution_count": 13
        }
      ]
    },
    {
      "cell_type": "code",
      "source": [
        "s=\"python is 333 good programming language ABCD\"\n",
        "re.sub(\"[a-d A-D]\",\"@\",s)"
      ],
      "metadata": {
        "colab": {
          "base_uri": "https://localhost:8080/",
          "height": 36
        },
        "id": "9ZB2JqiSZlb0",
        "outputId": "88db9b9e-4c30-47e6-971a-04e55a069779"
      },
      "execution_count": null,
      "outputs": [
        {
          "output_type": "execute_result",
          "data": {
            "text/plain": [
              "'python@is@333@goo@@progr@mming@l@ngu@ge@@@@@'"
            ],
            "application/vnd.google.colaboratory.intrinsic+json": {
              "type": "string"
            }
          },
          "metadata": {},
          "execution_count": 16
        }
      ]
    },
    {
      "cell_type": "code",
      "source": [
        "s=\"python is 333 good programming language ABCD\"\n",
        "re.sub(\"[a-d A-D]\",\"@\",s)\n",
        "re.sub(\"[^a-z A-Z]\",\"@\",s)"
      ],
      "metadata": {
        "colab": {
          "base_uri": "https://localhost:8080/",
          "height": 36
        },
        "id": "hxr3UkmTbJBv",
        "outputId": "bbd66fa4-810c-4508-b630-750059717e8f"
      },
      "execution_count": null,
      "outputs": [
        {
          "output_type": "execute_result",
          "data": {
            "text/plain": [
              "'python is @@@ good programming language ABCD'"
            ],
            "application/vnd.google.colaboratory.intrinsic+json": {
              "type": "string"
            }
          },
          "metadata": {},
          "execution_count": 19
        }
      ]
    },
    {
      "cell_type": "code",
      "source": [
        "s=\"python is 333 good programming language ABCD\"\n",
        "re.sub(\"[a-d A-D]\",\"@\",s)\n",
        "re.sub(\"[^a-z A-Z]\",\"\",s)"
      ],
      "metadata": {
        "colab": {
          "base_uri": "https://localhost:8080/",
          "height": 36
        },
        "id": "T4cDESxwcTw8",
        "outputId": "8214a537-6ffb-4cae-8c48-b17e96e973ea"
      },
      "execution_count": null,
      "outputs": [
        {
          "output_type": "execute_result",
          "data": {
            "text/plain": [
              "'python is  good programming language ABCD'"
            ],
            "application/vnd.google.colaboratory.intrinsic+json": {
              "type": "string"
            }
          },
          "metadata": {},
          "execution_count": 22
        }
      ]
    },
    {
      "cell_type": "code",
      "source": [
        "s=\"123,455\"\n",
        "re.findall(r\"\\d\",s)"
      ],
      "metadata": {
        "colab": {
          "base_uri": "https://localhost:8080/"
        },
        "id": "XfFlZBl5cc67",
        "outputId": "25f05b29-1aef-4c7c-bd34-108c10b94535"
      },
      "execution_count": null,
      "outputs": [
        {
          "output_type": "execute_result",
          "data": {
            "text/plain": [
              "['1', '2', '3', '4', '5', '5']"
            ]
          },
          "metadata": {},
          "execution_count": 27
        }
      ]
    },
    {
      "cell_type": "code",
      "source": [
        "from string import whitespace\n",
        "s=\"1234 apple 54ora5gee are\"\n"
      ],
      "metadata": {
        "id": "rVi0FLxReXBd"
      },
      "execution_count": null,
      "outputs": []
    },
    {
      "cell_type": "code",
      "source": [
        "#recursion :a function calling itself\n",
        "#wap to find factorial of a number using recurssion\n",
        "def fact(n):\n",
        "  if n==1:\n",
        "    return 1\n",
        "  else:\n",
        "    return n*fact(n-1)\n",
        "fact(5)"
      ],
      "metadata": {
        "colab": {
          "base_uri": "https://localhost:8080/"
        },
        "id": "fcMx4oNdiJoG",
        "outputId": "a724f0cf-c2fb-4efd-e4ba-6c21eac9cef5"
      },
      "execution_count": null,
      "outputs": [
        {
          "output_type": "execute_result",
          "data": {
            "text/plain": [
              "120"
            ]
          },
          "metadata": {},
          "execution_count": 30
        }
      ]
    },
    {
      "cell_type": "code",
      "source": [
        "#create a class rectangle and display its area and perimeter\n",
        "class Rectangle:\n",
        "    def get_data(self):\n",
        "        self.length = float(input(\"Enter the length of the rectangle: \"))\n",
        "        self.width = float(input(\"Enter the width of the rectangle: \"))\n",
        "\n",
        "    def display(self):\n",
        "        print(\"Length:\", self.length)\n",
        "s1=Rectangle()\n",
        "s1.get_data()\n",
        "s1.display()"
      ],
      "metadata": {
        "id": "xSaeFTAitfwX"
      },
      "execution_count": null,
      "outputs": []
    },
    {
      "cell_type": "code",
      "source": [
        "#oop\n",
        "#reusability\n",
        "#structured programing\n",
        "#easy under standing,easy to debug\n",
        "#class-> blue print of object\n",
        "#object->Instance of the class\n",
        "#"
      ],
      "metadata": {
        "id": "gncGjK5KkMoD"
      },
      "execution_count": null,
      "outputs": []
    },
    {
      "cell_type": "code",
      "source": [
        "class student():\n",
        "  def get_data (self):\n",
        "    self.name=input(\"enter the name\")\n",
        "    self.rollno=int(input(\"enter the roll no\"))\n",
        "  def display(self):\n",
        "    print(self.name)\n",
        "    print(self.rollno)\n",
        "\n",
        "s1=student()\n",
        "s1.get_data()\n",
        "s1.display()"
      ],
      "metadata": {
        "colab": {
          "base_uri": "https://localhost:8080/"
        },
        "id": "hwByKrgOs9c5",
        "outputId": "c2d2a111-0d78-43af-8473-f597b1dcf3b9"
      },
      "execution_count": null,
      "outputs": [
        {
          "output_type": "stream",
          "name": "stdout",
          "text": [
            "enter the namehanock\n",
            "enter the roll no22\n",
            "hanock\n",
            "22\n"
          ]
        }
      ]
    },
    {
      "cell_type": "code",
      "source": [
        "#create class of circles display area perimeter\n",
        "class Rectangle():\n",
        "\n",
        "  def get_data(self) :\n",
        "    self.l=int(input(\"enter the length: \"))\n",
        "    self.b=int(input(\"enter the breadth: \"))\n",
        "\n",
        "  def area(self):\n",
        "    print(\"area: \",self.l*self.b)\n",
        "\n",
        "\n",
        "  def perimeter(self):\n",
        "    print(\"perimeter: \",2*(self.l+self.b))\n",
        "\n",
        "r=Rectangle()\n",
        "\n",
        "r.get_data()\n",
        "r.area()\n",
        "r.perimeter()"
      ],
      "metadata": {
        "colab": {
          "base_uri": "https://localhost:8080/"
        },
        "id": "BR98QE8kxEu4",
        "outputId": "023e5d78-5a23-4988-9e62-38fe19042d62"
      },
      "execution_count": null,
      "outputs": [
        {
          "output_type": "stream",
          "name": "stdout",
          "text": [
            "enter the length: 3\n",
            "enter the breadth: 4\n",
            "area:  12\n",
            "perimeter:  14\n"
          ]
        }
      ]
    },
    {
      "cell_type": "code",
      "source": [
        "#constructor:__init__() to assign values to data members,automatically calls when object is created\n",
        "class student():\n",
        "  def __init__(self,n,r):\n",
        "    self.name=n\n",
        "    self.rollno=r\n",
        "  def display_data(self):\n",
        "    print(self.name)\n",
        "    print(self.rollno)\n",
        "s1=student(\"abu\",1)\n",
        "s1.display_data()"
      ],
      "metadata": {
        "id": "-yTbm94CyAmu",
        "colab": {
          "base_uri": "https://localhost:8080/"
        },
        "outputId": "a271eb42-3c2d-4c39-8048-0c53ad059984"
      },
      "execution_count": null,
      "outputs": [
        {
          "output_type": "stream",
          "name": "stdout",
          "text": [
            "abu\n",
            "1\n"
          ]
        }
      ]
    },
    {
      "cell_type": "code",
      "source": [
        "#create class rectangle with constructor\n",
        "class Rectangle():\n",
        "    def __init__(self, l,w):\n",
        "      self.length = l\n",
        "      self.width = w\n",
        "    def area(self):\n",
        "        print(\"Area:\", self.length * self.width)\n",
        "    def perimeter(self):\n",
        "        print(\"Perimeter:\", 2 * (self.length + self.width))\n",
        "r=Rectangle(3,4)\n",
        "r.area()\n",
        "r.perimeter()\n"
      ],
      "metadata": {
        "colab": {
          "base_uri": "https://localhost:8080/"
        },
        "id": "x_UJnrDBpp0V",
        "outputId": "72cf86c8-8447-41f1-e3af-771f9c213d79"
      },
      "execution_count": null,
      "outputs": [
        {
          "output_type": "stream",
          "name": "stdout",
          "text": [
            "Area: 12\n",
            "Perimeter: 14\n"
          ]
        }
      ]
    },
    {
      "cell_type": "code",
      "source": [
        "#create class circle using constructor\n",
        "class Circle():\n",
        "    def __init__(self, r):\n",
        "        self.radius = r\n",
        "\n",
        "    def area(self):\n",
        "        print(\"Area:\", 3.14 * self.radius * self.radius)\n",
        "\n",
        "    def perimeter(self):\n",
        "        print(\"perimeter:\", 2 * 3.14 * self.radius)\n",
        "c = Circle(5)\n",
        "c.area()\n",
        "c.perimeter()"
      ],
      "metadata": {
        "colab": {
          "base_uri": "https://localhost:8080/"
        },
        "id": "0RAUuS7EsJgQ",
        "outputId": "4dccf341-e97b-413f-f45e-02bb22f0bc71"
      },
      "execution_count": null,
      "outputs": [
        {
          "output_type": "stream",
          "name": "stdout",
          "text": [
            "Area: 78.5\n",
            "perimeter: 31.400000000000002\n"
          ]
        }
      ]
    },
    {
      "cell_type": "code",
      "source": [
        "#find string reverse using class\n",
        "class String():\n",
        "\n",
        "  def __init__(self,r):\n",
        "    self.string=r\n",
        "  def rev (self):\n",
        "    print(self.string[-1::-1])\n",
        "\n",
        "r=String(\"malayalam\")\n",
        "\n",
        "r.rev()"
      ],
      "metadata": {
        "colab": {
          "base_uri": "https://localhost:8080/"
        },
        "id": "9-BI9sXPxE_u",
        "outputId": "c327db2f-313c-4da9-e049-846bbf4d0863"
      },
      "execution_count": null,
      "outputs": [
        {
          "output_type": "stream",
          "name": "stdout",
          "text": [
            "malayalam\n"
          ]
        }
      ]
    },
    {
      "cell_type": "code",
      "source": [
        "import numpy as np\n",
        "a=np.array([1,2,3,0,4,\"a\"])\n",
        "print(a)"
      ],
      "metadata": {
        "colab": {
          "base_uri": "https://localhost:8080/"
        },
        "id": "Yan18xdlGLQf",
        "outputId": "2cd86c35-8f15-43d1-fffd-018aff198604"
      },
      "execution_count": null,
      "outputs": [
        {
          "output_type": "stream",
          "name": "stdout",
          "text": [
            "['1' '2' '3' '0' '4' 'a']\n"
          ]
        }
      ]
    },
    {
      "cell_type": "code",
      "source": [
        "b=np.array([0,2,3,4,5])\n",
        "b=np.array([[1,2],[3,2]])\n",
        "a.ndim\n",
        "b.ndim\n",
        "print(b)\n",
        "b.shape"
      ],
      "metadata": {
        "colab": {
          "base_uri": "https://localhost:8080/"
        },
        "id": "gtaUpQGBG0Ut",
        "outputId": "5e0affad-ac56-4f03-8658-14057d8c27a0"
      },
      "execution_count": null,
      "outputs": [
        {
          "output_type": "stream",
          "name": "stdout",
          "text": [
            "[[1 2]\n",
            " [3 2]]\n"
          ]
        },
        {
          "output_type": "execute_result",
          "data": {
            "text/plain": [
              "(2, 2)"
            ]
          },
          "metadata": {},
          "execution_count": 12
        }
      ]
    },
    {
      "cell_type": "code",
      "source": [
        "#slicing forword slicing backword\n",
        "\n",
        "b=np.array ([1,2,3,4,5])\n",
        "\n",
        "#print(1,2)\n",
        "\n",
        "b[0:2]\n",
        "\n",
        "#print(5,4)\n",
        "\n",
        "b[-1:-3:-1]\n",
        "\n",
        "#print(4,5)\n",
        "\n",
        "b[3:]\n",
        "\n",
        "#print(2,1)\n",
        "\n",
        "b[-4::-1]"
      ],
      "metadata": {
        "colab": {
          "base_uri": "https://localhost:8080/"
        },
        "id": "4Qavs28YKF37",
        "outputId": "ce5a3f2e-bd96-4f02-b104-b274fb28f42b"
      },
      "execution_count": null,
      "outputs": [
        {
          "output_type": "execute_result",
          "data": {
            "text/plain": [
              "array([2, 1])"
            ]
          },
          "metadata": {},
          "execution_count": 10
        }
      ]
    },
    {
      "cell_type": "code",
      "source": [
        "#create a 2x3 matrix  and print ,size,shape,dimension\n",
        "a=np.array ([[1,2,3],[4,5,6]])\n",
        "print(a)\n",
        "print(a.size)\n",
        "print(a.ndim)"
      ],
      "metadata": {
        "colab": {
          "base_uri": "https://localhost:8080/"
        },
        "id": "XDYZ6pWrLOub",
        "outputId": "e3752b90-fab8-4512-9585-ef050b3fc495"
      },
      "execution_count": null,
      "outputs": [
        {
          "output_type": "stream",
          "name": "stdout",
          "text": [
            "[[1 2 3]\n",
            " [4 5 6]]\n",
            "6\n",
            "2\n"
          ]
        }
      ]
    },
    {
      "cell_type": "code",
      "source": [
        "a=np.array ([[1,2],[3,4],[5,6],[7,8]])\n",
        "print(a)\n",
        "print(a.size)\n",
        "print(a.ndim)"
      ],
      "metadata": {
        "colab": {
          "base_uri": "https://localhost:8080/"
        },
        "id": "o40MkKSeM2-7",
        "outputId": "4b89a1b9-eb45-47b0-e479-4b833f2b8d6e"
      },
      "execution_count": null,
      "outputs": [
        {
          "output_type": "stream",
          "name": "stdout",
          "text": [
            "[[1 2]\n",
            " [3 4]\n",
            " [5 6]\n",
            " [7 8]]\n",
            "8\n",
            "2\n"
          ]
        }
      ]
    },
    {
      "cell_type": "code",
      "source": [
        "#create a 4x4 matrix\n",
        "a=np.array ([[1,2,3,4],[5,3,2,2],[7,6,5,3],[3,4,3,2]])\n",
        "print(a)\n",
        "print(a.size)\n",
        "print(a.shape)\n",
        "print(a.ndim)"
      ],
      "metadata": {
        "colab": {
          "base_uri": "https://localhost:8080/"
        },
        "id": "i988j1X1Nyo9",
        "outputId": "baa1b1cb-3f3c-425a-97cb-c13ebea4470c"
      },
      "execution_count": null,
      "outputs": [
        {
          "output_type": "stream",
          "name": "stdout",
          "text": [
            "[[1 2 3 4]\n",
            " [5 3 2 2]\n",
            " [7 6 5 3]\n",
            " [3 4 3 2]]\n",
            "16\n",
            "(4, 4)\n",
            "2\n"
          ]
        }
      ]
    },
    {
      "cell_type": "code",
      "source": [
        "import numpy as np\n",
        "\n",
        "a=np.array ([[1,2,3,4],[5,3,2,2],[7,6,5,3],[3,4,3,2]])\n",
        "print(a)"
      ],
      "metadata": {
        "colab": {
          "base_uri": "https://localhost:8080/"
        },
        "id": "8yl8c3GUF12n",
        "outputId": "d83b42a3-e6c8-4e3f-dd79-de4ba95cbd58"
      },
      "execution_count": 16,
      "outputs": [
        {
          "output_type": "stream",
          "name": "stdout",
          "text": [
            "[[1 2 3 4]\n",
            " [5 3 2 2]\n",
            " [7 6 5 3]\n",
            " [3 4 3 2]]\n"
          ]
        }
      ]
    },
    {
      "cell_type": "code",
      "source": [
        " a[0]\n",
        " a[:,0]\n",
        " a[1,1]\n",
        " a[2,2]\n",
        " a[3,2:]\n",
        " a[2:,2:]"
      ],
      "metadata": {
        "colab": {
          "base_uri": "https://localhost:8080/"
        },
        "id": "v7mHPdhoFV87",
        "outputId": "03b6b7c7-72dc-41e6-cb87-b3e0003070f9"
      },
      "execution_count": null,
      "outputs": [
        {
          "output_type": "execute_result",
          "data": {
            "text/plain": [
              "array([[5, 3],\n",
              "       [3, 2]])"
            ]
          },
          "metadata": {},
          "execution_count": 10
        }
      ]
    },
    {
      "cell_type": "code",
      "source": [
        "a=np.ones([3,3],dtype=int)\n",
        "a"
      ],
      "metadata": {
        "colab": {
          "base_uri": "https://localhost:8080/"
        },
        "id": "yBcDDVsdITM1",
        "outputId": "7e6f715a-8475-4de3-84d5-8caf0b0a9a1e"
      },
      "execution_count": null,
      "outputs": [
        {
          "output_type": "execute_result",
          "data": {
            "text/plain": [
              "array([[1, 1, 1],\n",
              "       [1, 1, 1],\n",
              "       [1, 1, 1]])"
            ]
          },
          "metadata": {},
          "execution_count": 14
        }
      ]
    },
    {
      "cell_type": "code",
      "source": [
        "#creat two 2x2 matrix\n",
        "\n",
        "a=np.array([[1,2],[3,4]])\n",
        "b=np.array([[3,1],[6,7]])\n",
        "print(a)\n",
        "print(b)"
      ],
      "metadata": {
        "colab": {
          "base_uri": "https://localhost:8080/"
        },
        "id": "BckeSzA_LSg8",
        "outputId": "d936e86b-82c8-4331-bfb8-fc030824c806"
      },
      "execution_count": null,
      "outputs": [
        {
          "output_type": "stream",
          "name": "stdout",
          "text": [
            "[[1 2]\n",
            " [3 4]]\n",
            "[[3 1]\n",
            " [6 7]]\n"
          ]
        }
      ]
    },
    {
      "cell_type": "code",
      "source": [
        "#matrix addition\n",
        "print(a+b)\n",
        "#matrix substraction\n",
        "print(a-b)\n",
        "#matrix multiplication\n",
        "print(a*b)#not a multiplication\n",
        "print(a@b)#matrix multiplication\n",
        "print(a.dot(b))\n",
        "#matrix division\n",
        "print(a/b)"
      ],
      "metadata": {
        "colab": {
          "base_uri": "https://localhost:8080/"
        },
        "id": "gpL204dbMUGl",
        "outputId": "1e4f5d5c-4bb1-46ef-ecee-438adc9ca099"
      },
      "execution_count": null,
      "outputs": [
        {
          "output_type": "stream",
          "name": "stdout",
          "text": [
            "[[ 4  3]\n",
            " [ 9 11]]\n",
            "[[-2  1]\n",
            " [-3 -3]]\n",
            "[[ 3  2]\n",
            " [18 28]]\n",
            "[[15 15]\n",
            " [33 31]]\n",
            "[[15 15]\n",
            " [33 31]]\n",
            "[[0.33333333 2.        ]\n",
            " [0.5        0.57142857]]\n"
          ]
        }
      ]
    },
    {
      "cell_type": "code",
      "source": [],
      "metadata": {
        "id": "eKdSHYNXV4FE"
      },
      "execution_count": null,
      "outputs": []
    },
    {
      "cell_type": "code",
      "source": [
        "#floor\n",
        "z=np.floor (a)\n",
        "z"
      ],
      "metadata": {
        "colab": {
          "base_uri": "https://localhost:8080/"
        },
        "id": "OOACnUuyOOof",
        "outputId": "3e4f0c02-57d3-4aed-c362-4edc491cee89"
      },
      "execution_count": 19,
      "outputs": [
        {
          "output_type": "execute_result",
          "data": {
            "text/plain": [
              "array([[3., 4., 1.],\n",
              "       [5., 3., 1.],\n",
              "       [6., 9., 8.]])"
            ]
          },
          "metadata": {},
          "execution_count": 19
        }
      ]
    },
    {
      "cell_type": "code",
      "source": [
        "#ceil\n",
        "z=np.ceil(a)\n",
        "z"
      ],
      "metadata": {
        "colab": {
          "base_uri": "https://localhost:8080/"
        },
        "id": "jtnqmx_LVLMe",
        "outputId": "73c77b34-6368-4e42-bd6a-762a4bba8af4"
      },
      "execution_count": null,
      "outputs": [
        {
          "output_type": "execute_result",
          "data": {
            "text/plain": [
              "array([[1., 2.],\n",
              "       [3., 4.]])"
            ]
          },
          "metadata": {},
          "execution_count": 26
        }
      ]
    },
    {
      "cell_type": "code",
      "source": [
        "#round\n",
        "z=np.round(a)\n",
        "z\n",
        "#np.cos(a)\n",
        "a.flatten()"
      ],
      "metadata": {
        "colab": {
          "base_uri": "https://localhost:8080/"
        },
        "id": "cdUdyu_6Vl_K",
        "outputId": "13ab2ebb-f1ed-4e23-9de5-53a1d7190f36"
      },
      "execution_count": 18,
      "outputs": [
        {
          "output_type": "execute_result",
          "data": {
            "text/plain": [
              "array([3, 4, 1, 5, 3, 1, 6, 9, 8])"
            ]
          },
          "metadata": {},
          "execution_count": 18
        }
      ]
    },
    {
      "cell_type": "code",
      "source": [
        "#sort\n",
        "#create 3x3 matrix\n",
        "a=np.array([[3,4,1],[5,3,1],[6,9,8]])\n",
        "print(a)\n",
        "b=np.sort(a,axis=1)\n",
        "print(b)\n",
        "c=np.argsort(a,axis=1)\n",
        "print(c)"
      ],
      "metadata": {
        "colab": {
          "base_uri": "https://localhost:8080/"
        },
        "id": "Lgwka7ZTldd5",
        "outputId": "d9580e6a-372f-4d5d-f4b4-bd5f299b69bf"
      },
      "execution_count": 21,
      "outputs": [
        {
          "output_type": "stream",
          "name": "stdout",
          "text": [
            "[[3 4 1]\n",
            " [5 3 1]\n",
            " [6 9 8]]\n",
            "[[1 3 4]\n",
            " [1 3 5]\n",
            " [6 8 9]]\n",
            "[[2 0 1]\n",
            " [2 1 0]\n",
            " [0 2 1]]\n"
          ]
        }
      ]
    },
    {
      "cell_type": "code",
      "source": [],
      "metadata": {
        "id": "LcmeSiukn86z"
      },
      "execution_count": null,
      "outputs": []
    }
  ],
  "metadata": {
    "colab": {
      "provenance": [],
      "mount_file_id": "1qS0G_n4YnFvAtwdoTYtMosUcXvauiKA4",
      "authorship_tag": "ABX9TyPtW032nLiDztK5kVCDf5aB",
      "include_colab_link": true
    },
    "kernelspec": {
      "display_name": "Python 3",
      "name": "python3"
    },
    "language_info": {
      "name": "python"
    }
  },
  "nbformat": 4,
  "nbformat_minor": 0
}